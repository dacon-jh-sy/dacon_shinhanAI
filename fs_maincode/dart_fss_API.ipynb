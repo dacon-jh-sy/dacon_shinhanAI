{
 "cells": [
  {
   "cell_type": "markdown",
   "id": "309b8ee1",
   "metadata": {},
   "source": [
    "https://dart-fss.readthedocs.io/en/latest/dart_fs.html"
   ]
  },
  {
   "cell_type": "code",
   "execution_count": 29,
   "id": "3c2562f3",
   "metadata": {},
   "outputs": [],
   "source": [
    "# !pip install dart_fss"
   ]
  },
  {
   "cell_type": "code",
   "execution_count": 36,
   "id": "586a2ae4",
   "metadata": {},
   "outputs": [],
   "source": [
    "import pandas as pd\n",
    "import numpy as np\n",
    "import requests\n",
    "import json, traceback\n",
    "from bs4 import BeautifulSoup as soup \n",
    "import re\n",
    "import time\n",
    "from datetime import datetime\n",
    "from dateutil.relativedelta import relativedelta"
   ]
  },
  {
   "cell_type": "code",
   "execution_count": 1,
   "id": "45e9a33b",
   "metadata": {},
   "outputs": [],
   "source": [
    "import dart_fss as dart"
   ]
  },
  {
   "cell_type": "markdown",
   "id": "7c3c5081",
   "metadata": {},
   "source": [
    "# 초기설정"
   ]
  },
  {
   "cell_type": "code",
   "execution_count": 2,
   "id": "b5c31e1f",
   "metadata": {},
   "outputs": [
    {
     "data": {
      "text/plain": [
       "'e10b8471ac01a418f8888d36542cd39dc82bc330'"
      ]
     },
     "execution_count": 2,
     "metadata": {},
     "output_type": "execute_result"
    }
   ],
   "source": [
    "# Open DART API KEY 설정\n",
    "api_key='e10b8471ac01a418f8888d36542cd39dc82bc330'\n",
    "dart.set_api_key(api_key=api_key)"
   ]
  },
  {
   "cell_type": "markdown",
   "id": "68de09f6",
   "metadata": {},
   "source": [
    "# 기업리스트출력"
   ]
  },
  {
   "cell_type": "code",
   "execution_count": 3,
   "id": "ce143ced",
   "metadata": {},
   "outputs": [
    {
     "data": {
      "application/vnd.jupyter.widget-view+json": {
       "model_id": "57086fa404c246de9ac807a76b5b3eee",
       "version_major": 2,
       "version_minor": 0
      },
      "text/plain": [
       "Output()"
      ]
     },
     "metadata": {},
     "output_type": "display_data"
    },
    {
     "data": {
      "application/vnd.jupyter.widget-view+json": {
       "model_id": "7c58bc238b524b70b73081ca044760bc",
       "version_major": 2,
       "version_minor": 0
      },
      "text/plain": [
       "Output()"
      ]
     },
     "metadata": {},
     "output_type": "display_data"
    },
    {
     "data": {
      "application/vnd.jupyter.widget-view+json": {
       "model_id": "c42261af82074966909d888e01d3bb1b",
       "version_major": 2,
       "version_minor": 0
      },
      "text/plain": [
       "Output()"
      ]
     },
     "metadata": {},
     "output_type": "display_data"
    },
    {
     "data": {
      "text/plain": [
       "Number of companies: 99054"
      ]
     },
     "execution_count": 3,
     "metadata": {},
     "output_type": "execute_result"
    }
   ],
   "source": [
    "# 모든 상장된 기업 리스트 불러오기\n",
    "corp_list= dart.get_corp_list()\n",
    "corp_list\n",
    "\n",
    "# 총 99054개의 공시된 기업 존재\n",
    "# 하지만 재무제표가 존재하는 기업은 따로 존재"
   ]
  },
  {
   "cell_type": "markdown",
   "id": "16799b44",
   "metadata": {},
   "source": [
    "존재하는 기업들 단순 출력(기업코드는 주식코드와 구분됨)"
   ]
  },
  {
   "cell_type": "code",
   "execution_count": 4,
   "id": "75a770d5",
   "metadata": {},
   "outputs": [
    {
     "data": {
      "text/plain": [
       "[[00434003]다코,\n",
       " [00434456]일산약품,\n",
       " [00430964]굿앤엘에스,\n",
       " [00432403]한라판지,\n",
       " [00388953]크레디피아제이십오차유동화전문회사]"
      ]
     },
     "execution_count": 4,
     "metadata": {},
     "output_type": "execute_result"
    }
   ],
   "source": [
    "corp_list.corps[:5]"
   ]
  },
  {
   "cell_type": "code",
   "execution_count": 5,
   "id": "23afa930",
   "metadata": {},
   "outputs": [
    {
     "name": "stdout",
     "output_type": "stream",
     "text": [
      "00434003\n",
      "00434456\n",
      "00430964\n",
      "00432403\n",
      "00388953\n"
     ]
    }
   ],
   "source": [
    "tmp_list = []\n",
    "\n",
    "for i in corp_list.corps[:5]:\n",
    "    print(str(i)[1:9])\n",
    "    tmp_list.append(str(i)[1:9])"
   ]
  },
  {
   "cell_type": "code",
   "execution_count": 6,
   "id": "beae2f7b",
   "metadata": {},
   "outputs": [
    {
     "data": {
      "text/plain": [
       "['00434003', '00434456', '00430964', '00432403', '00388953']"
      ]
     },
     "execution_count": 6,
     "metadata": {},
     "output_type": "execute_result"
    }
   ],
   "source": [
    "tmp_list"
   ]
  },
  {
   "cell_type": "code",
   "execution_count": 7,
   "id": "481bb361",
   "metadata": {},
   "outputs": [
    {
     "data": {
      "text/html": [
       "\n",
       "    <style scoped>\n",
       "        .dart-table tbody tr th {\n",
       "            vertical-align: top;\n",
       "            text-overflow: ellipsis;\n",
       "        }\n",
       "        .dart-table thead th {\n",
       "            text-align: right;\n",
       "            text-overflow: ellipsis;\n",
       "        }\n",
       "    </style>\n",
       "    <table border=\"1\" class=\"dart-table\"><thead><tr style=\"text-align: right;\"><th>Label</th><th>Data</th></tr></thead><tbody><tr><th>corp_code</th><td>00434456</td></tr><tr><th>corp_name</th><td>일산약품</td></tr><tr><th>stock_code</th><td>None</td></tr><tr><th>modify_date</th><td>20170630</td></tr></tbody></table>"
      ],
      "text/plain": [
       "[00434456]일산약품"
      ]
     },
     "execution_count": 7,
     "metadata": {},
     "output_type": "execute_result"
    }
   ],
   "source": [
    "dart.corp.get_corp_list().corps[1]"
   ]
  },
  {
   "cell_type": "code",
   "execution_count": 8,
   "id": "3a02c70f",
   "metadata": {},
   "outputs": [
    {
     "data": {
      "text/html": [
       "\n",
       "    <style scoped>\n",
       "        .dart-table tbody tr th {\n",
       "            vertical-align: top;\n",
       "            text-overflow: ellipsis;\n",
       "        }\n",
       "        .dart-table thead th {\n",
       "            text-align: right;\n",
       "            text-overflow: ellipsis;\n",
       "        }\n",
       "    </style>\n",
       "    <table border=\"1\" class=\"dart-table\"><thead><tr style=\"text-align: right;\"><th>Label</th><th>Data</th></tr></thead><tbody><tr><th>corp_code</th><td>00434003</td></tr><tr><th>corp_name</th><td>다코</td></tr><tr><th>stock_code</th><td>None</td></tr><tr><th>modify_date</th><td>20170630</td></tr></tbody></table>"
      ],
      "text/plain": [
       "[00434003]다코"
      ]
     },
     "execution_count": 8,
     "metadata": {},
     "output_type": "execute_result"
    }
   ],
   "source": [
    "dart.corp.get_corp_list().corps[0]"
   ]
  },
  {
   "cell_type": "code",
   "execution_count": 9,
   "id": "91ee55c5",
   "metadata": {},
   "outputs": [
    {
     "name": "stdout",
     "output_type": "stream",
     "text": [
      "<class 'dart_fss.corp.corp.Corp'>\n",
      "<class 'dart_fss.corp.corp.Corp'>\n",
      "<class 'dart_fss.corp.corp.Corp'>\n",
      "<class 'dart_fss.corp.corp.Corp'>\n",
      "<class 'dart_fss.corp.corp.Corp'>\n",
      "<class 'dart_fss.corp.corp.Corp'>\n",
      "<class 'dart_fss.corp.corp.Corp'>\n",
      "<class 'dart_fss.corp.corp.Corp'>\n",
      "<class 'dart_fss.corp.corp.Corp'>\n",
      "<class 'dart_fss.corp.corp.Corp'>\n"
     ]
    }
   ],
   "source": [
    "len(dart.corp.get_corp_list().corps)\n",
    "for i in dart.corp.get_corp_list().corps[:10]:\n",
    "    print(type(i))"
   ]
  },
  {
   "cell_type": "markdown",
   "id": "0dec638f",
   "metadata": {},
   "source": [
    "산업 및 제품에 따른 출력"
   ]
  },
  {
   "cell_type": "code",
   "execution_count": 10,
   "id": "376e67ce",
   "metadata": {
    "scrolled": false
   },
   "outputs": [
    {
     "data": {
      "text/plain": [
       "['1차 비철금속 제조업',\n",
       " '1차 철강 제조업',\n",
       " '가구 제조업',\n",
       " '가전제품 및 정보통신장비 소매업',\n",
       " '가정용 기기 제조업',\n",
       " '가죽, 가방 및 유사제품 제조업',\n",
       " '개인 및 가정용품 임대업',\n",
       " '건물 건설업',\n",
       " '건물설비 설치 공사업',\n",
       " '건축기술, 엔지니어링 및 관련 기술 서비스업']"
      ]
     },
     "execution_count": 10,
     "metadata": {},
     "output_type": "execute_result"
    }
   ],
   "source": [
    "dart.corp.get_corp_list().sectors[:10]"
   ]
  },
  {
   "cell_type": "code",
   "execution_count": 130,
   "id": "ab775f8f",
   "metadata": {},
   "outputs": [
    {
     "data": {
      "text/plain": [
       "[[00301246]SFA반도체,\n",
       " [01068348]러셀,\n",
       " [00365457]제이티,\n",
       " [00197759]미래산업,\n",
       " [01489648]솔브레인,\n",
       " [00536286]윈팩,\n",
       " [01255652]레이크머티리얼즈,\n",
       " [00524421]테스,\n",
       " [00911229]라온테크,\n",
       " [00861100]아이케이세미콘]"
      ]
     },
     "execution_count": 130,
     "metadata": {},
     "output_type": "execute_result"
    }
   ],
   "source": [
    "list = dart.corp.CorpList().find_by_sector('Y')\n",
    "list\n",
    "corp_list.find_by_product('반도체')[:10]"
   ]
  },
  {
   "cell_type": "code",
   "execution_count": null,
   "id": "b10d9b8e",
   "metadata": {},
   "outputs": [],
   "source": []
  },
  {
   "cell_type": "markdown",
   "id": "393b2e9a",
   "metadata": {},
   "source": [
    "# 재무정보 조회 및 엑셀 다운"
   ]
  },
  {
   "cell_type": "code",
   "execution_count": 12,
   "id": "1ae01eef",
   "metadata": {},
   "outputs": [],
   "source": [
    "# 삼성전자 code\n",
    "corp_code = '00126380'\n",
    "\n",
    "# 모든 상장된 기업 리스트 불러오기\n",
    "corp_list = dart.get_corp_list()"
   ]
  },
  {
   "cell_type": "code",
   "execution_count": 13,
   "id": "1032112f",
   "metadata": {},
   "outputs": [],
   "source": [
    "# 삼성전자\n",
    "samsung = corp_list.find_by_corp_name(corp_code)"
   ]
  },
  {
   "cell_type": "code",
   "execution_count": 16,
   "id": "7024de96",
   "metadata": {},
   "outputs": [
    {
     "data": {
      "application/vnd.jupyter.widget-view+json": {
       "model_id": "6d911297c6cd447ba423a76d2a9086f7",
       "version_major": 2,
       "version_minor": 0
      },
      "text/plain": [
       "Annual reports:   0%|          | 0/4 [00:00<?, ?report/s]"
      ]
     },
     "metadata": {},
     "output_type": "display_data"
    }
   ],
   "source": [
    "# 2012년 01월 01일 부터 연결재무제표 검색\n",
    "# fs = samsung.extract_fs(bgn_de='20120101') 와 동일\n",
    "fs = dart.fs.extract(corp_code=corp_code, bgn_de='20200101')"
   ]
  },
  {
   "cell_type": "markdown",
   "id": "f9c164d8",
   "metadata": {},
   "source": [
    "### 연간, 반기, 분기보고서\n",
    "str: \n",
    "‘annual’ 연간, \n",
    "‘half’ 연간 + 반기, \n",
    "‘quarter’ 연간 + 반기 + 분기 \n",
    "list: [‘annual’] : 연간, [‘half’]: 반기, [‘quarter] 분기, [‘annual’, ‘half’]: 연간 + 반기\n",
    "\n",
    "[‘annual’, ‘quarter’]: 연간 + 분기, [‘half’, ‘quarter’]: 반기 + 분기, [‘annual’, ‘half’, ‘quarter’]: 연간 + 반기 + 분기"
   ]
  },
  {
   "cell_type": "code",
   "execution_count": 29,
   "id": "a0e1cac0",
   "metadata": {},
   "outputs": [
    {
     "data": {
      "application/vnd.jupyter.widget-view+json": {
       "model_id": "716137ce40ba4dd4a858571cdd976486",
       "version_major": 2,
       "version_minor": 0
      },
      "text/plain": [
       "Annual reports:   0%|          | 0/4 [00:00<?, ?report/s]"
      ]
     },
     "metadata": {},
     "output_type": "display_data"
    },
    {
     "data": {
      "application/vnd.jupyter.widget-view+json": {
       "model_id": "debce2677ff840bfa3d4383865d83484",
       "version_major": 2,
       "version_minor": 0
      },
      "text/plain": [
       "Semiannual reports:   0%|          | 0/3 [00:00<?, ?report/s]"
      ]
     },
     "metadata": {},
     "output_type": "display_data"
    },
    {
     "data": {
      "application/vnd.jupyter.widget-view+json": {
       "model_id": "3306a5391ca24c43a9a9df79dc331f6b",
       "version_major": 2,
       "version_minor": 0
      },
      "text/plain": [
       "Quarterly reports:   0%|          | 0/6 [00:00<?, ?report/s]"
      ]
     },
     "metadata": {},
     "output_type": "display_data"
    }
   ],
   "source": [
    "fs = dart.fs.extract(corp_code=corp_code, bgn_de='20200101', report_tp= 'quarter', lang = 'ko')"
   ]
  },
  {
   "cell_type": "code",
   "execution_count": 181,
   "id": "eab908ca",
   "metadata": {},
   "outputs": [],
   "source": [
    "# 연결재무상태표\n",
    "df_fs = fs['bs'] # 또는 df = fs[0] 또는 df = fs.show('bs')\n",
    "# 연결재무상태표 추출에 사용된 Label 정보\n",
    "labels_fs = fs.labels['bs']\n",
    "\n",
    "# df_fs.info()\n",
    "labels_fs"
   ]
  },
  {
   "cell_type": "code",
   "execution_count": 182,
   "id": "7316b260",
   "metadata": {},
   "outputs": [],
   "source": [
    "# 연결손익계산서(Income Statement)\n",
    "df_is = fs['is'] # 또는 df = fs[1] 또는 df = fs.show('is')\n",
    "# 연결손익계산서 추출에 사용된 Label 정보\n",
    "labels_is = fs.labels['is']\n",
    "\n",
    "# df_is"
   ]
  },
  {
   "cell_type": "code",
   "execution_count": 183,
   "id": "43e0eda4",
   "metadata": {},
   "outputs": [],
   "source": [
    "# 연결포괄손익계산서()\n",
    "df_ci = fs['cis'] # 또는 df = fs[2] 또는 df = fs.show('cis')\n",
    "# 연결포괄손익계산서 추출에 사용된 Label 정보\n",
    "labels_ci = fs.labels['cis']\n",
    "\n",
    "# 현금흐름표(Cash Flow)\n",
    "df_cf = fs['cf'] # 또는 df = fs[3] 또는 df = fs.show('cf')\n",
    "# 현금흐름표 추출에 사용된 Label 정보\n",
    "labels_cf = fs.labels['cf']"
   ]
  },
  {
   "cell_type": "code",
   "execution_count": 30,
   "id": "6e37d124",
   "metadata": {},
   "outputs": [
    {
     "data": {
      "text/plain": [
       "'./data\\\\삼성전자_연간반기분기.xlsx'"
      ]
     },
     "execution_count": 30,
     "metadata": {},
     "output_type": "execute_result"
    }
   ],
   "source": [
    "# 재무제표 일괄저장 (default: 실행폴더/fsdata/{corp_code}_{report_tp}.xlsx)\n",
    "fs.save()\n",
    "\n",
    "# 재무제표 일괄저장\n",
    "filename = '삼성전자_연간반기분기.xlsx'\n",
    "path = './data'\n",
    "fs.save(filename=filename, path=path)"
   ]
  },
  {
   "cell_type": "code",
   "execution_count": null,
   "id": "715dee60",
   "metadata": {},
   "outputs": [],
   "source": []
  },
  {
   "cell_type": "code",
   "execution_count": null,
   "id": "2ba568eb",
   "metadata": {},
   "outputs": [],
   "source": []
  },
  {
   "cell_type": "markdown",
   "id": "1974eb96",
   "metadata": {},
   "source": [
    "### 회사 리스트 다운로드"
   ]
  },
  {
   "cell_type": "code",
   "execution_count": 39,
   "id": "6feae011",
   "metadata": {},
   "outputs": [
    {
     "name": "stderr",
     "output_type": "stream",
     "text": [
      "C:\\Users\\jjgus\\AppData\\Local\\Temp\\ipykernel_8940\\1046956579.py:21: UserWarning: This pattern is interpreted as a regular expression, and has match groups. To actually get the groups, use str.extract.\n",
      "  KOSPI_code_list[KOSPI_code_list[\"회사명\"].str.contains(r\"(스팩)\") == True].index.tolist(), axis = 0, inplace = True)\n",
      "C:\\Users\\jjgus\\AppData\\Local\\Temp\\ipykernel_8940\\1046956579.py:23: UserWarning: This pattern is interpreted as a regular expression, and has match groups. To actually get the groups, use str.extract.\n",
      "  KOSPI_code_list[KOSPI_code_list[\"회사명\"].str.contains(r\"(리츠)\") == True].index.tolist(), axis = 0, inplace = True)\n",
      "C:\\Users\\jjgus\\AppData\\Local\\Temp\\ipykernel_8940\\1046956579.py:25: UserWarning: This pattern is interpreted as a regular expression, and has match groups. To actually get the groups, use str.extract.\n",
      "  KOSDAQ_code_list[KOSDAQ_code_list[\"회사명\"].str.contains(r\"(스팩)\") == True].index.tolist(), axis = 0, inplace = True)\n",
      "C:\\Users\\jjgus\\AppData\\Local\\Temp\\ipykernel_8940\\1046956579.py:27: UserWarning: This pattern is interpreted as a regular expression, and has match groups. To actually get the groups, use str.extract.\n",
      "  KOSDAQ_code_list[KOSDAQ_code_list[\"회사명\"].str.contains(r\"(리츠)\") == True].index.tolist(), axis = 0, inplace = True)\n"
     ]
    }
   ],
   "source": [
    "# getStockCode() : 상장주식종목 코드번호를 html을 통해 데이터프레임 형태로 불러오는 함수\n",
    "def getStockCode() -> pd.DataFrame:\n",
    "\n",
    "    # 1. 상장지수 회사명 및 종목코드 데이터를 불러오기\n",
    "    KOSPI_code_list = pd.read_html(html_stock_code + \"?method=download&marketType=stockMkt\")[0]\n",
    "    KOSDAQ_code_list = pd.read_html(html_stock_code + \"?method=download&marketType=kosdaqMkt\")[0]\n",
    "    \n",
    "    # 각 시장별 회사명, 종목코드만 추출\n",
    "    KOSPI_code_list = KOSPI_code_list[[\"회사명\", \"종목코드\"]]\n",
    "    KOSDAQ_code_list = KOSDAQ_code_list[[\"회사명\", \"종목코드\"]]\n",
    "    \n",
    "    # 주식종목코드는 int 타입(연속형)으로 6자리에 맞추기 위한 0 추가하는 익명함수(lambda)\n",
    "    KOSPI_code_list[\"종목코드\"] = KOSPI_code_list[\"종목코드\"].apply(lambda x: \"0\"*(6 - len(str(x))) + str(x))\n",
    "    KOSDAQ_code_list[\"종목코드\"] = KOSDAQ_code_list[\"종목코드\"].apply(lambda x: \"0\"*(6 - len(str(x))) + str(x))\n",
    "      \n",
    "\n",
    "    # 2. KOSPI, KOSDAQ 상장주식종목에서 리츠와 ETF를 제거\n",
    "    \n",
    "    # 문자열 정규표현식에서 \"리츠\"와 \"스팩\"을 필터링하여 해당 행 번호를 추출하여 데이터프레임에서 삭제\n",
    "    KOSPI_code_list.drop(\n",
    "        KOSPI_code_list[KOSPI_code_list[\"회사명\"].str.contains(r\"(스팩)\") == True].index.tolist(), axis = 0, inplace = True)\n",
    "    KOSPI_code_list.drop(\n",
    "        KOSPI_code_list[KOSPI_code_list[\"회사명\"].str.contains(r\"(리츠)\") == True].index.tolist(), axis = 0, inplace = True)\n",
    "    KOSDAQ_code_list.drop(\n",
    "        KOSDAQ_code_list[KOSDAQ_code_list[\"회사명\"].str.contains(r\"(스팩)\") == True].index.tolist(), axis = 0, inplace = True)\n",
    "    KOSDAQ_code_list.drop(\n",
    "        KOSDAQ_code_list[KOSDAQ_code_list[\"회사명\"].str.contains(r\"(리츠)\") == True].index.tolist(), axis = 0, inplace = True)\n",
    "    \n",
    "      # [str.contains UserWarning] This pattern is interpreted as a regular expression, and has match groups. To actually get the groups, use str.extract.\n",
    "    return KOSPI_code_list, KOSDAQ_code_list\n",
    "\n",
    "\n",
    "html_stock_code = \"https://kind.krx.co.kr/corpgeneral/corpList.do\"\n",
    "kospi, kosdaq = getStockCode()"
   ]
  },
  {
   "cell_type": "code",
   "execution_count": 53,
   "id": "d3b8342a",
   "metadata": {},
   "outputs": [
    {
     "name": "stdout",
     "output_type": "stream",
     "text": [
      "[00293716]명신산업\n",
      "[00148540]CJ\n",
      "[00113544]대한화섬\n",
      "[00819596]웅진\n",
      "[00146232]일성건설\n"
     ]
    }
   ],
   "source": [
    "tmp_corps = kospi['회사명'].sample(n=5)\n",
    "\n",
    "for i in tmp_corps:\n",
    "    print(corp_list.find_by_corp_name(i, exactly=True)[0])"
   ]
  },
  {
   "cell_type": "code",
   "execution_count": 55,
   "id": "03186587",
   "metadata": {},
   "outputs": [
    {
     "data": {
      "text/html": [
       "\n",
       "    <style scoped>\n",
       "        .dart-table tbody tr th {\n",
       "            vertical-align: top;\n",
       "            text-overflow: ellipsis;\n",
       "        }\n",
       "        .dart-table thead th {\n",
       "            text-align: right;\n",
       "            text-overflow: ellipsis;\n",
       "        }\n",
       "    </style>\n",
       "    <table border=\"1\" class=\"dart-table\"><thead><tr style=\"text-align: right;\"><th>Label</th><th>Data</th></tr></thead><tbody><tr><th>corp_code</th><td>00113544</td></tr><tr><th>corp_name</th><td>대한화섬</td></tr><tr><th>stock_code</th><td>003830</td></tr><tr><th>modify_date</th><td>20230109</td></tr><tr><th>sector</th><td>화학섬유 제조업</td></tr><tr><th>product</th><td>화학섬유원사(FY,PTY,S.FIBER)제조</td></tr><tr><th>corp_cls</th><td>Y</td></tr></tbody></table>"
      ],
      "text/plain": [
       "[00113544]대한화섬"
      ]
     },
     "execution_count": 55,
     "metadata": {},
     "output_type": "execute_result"
    }
   ],
   "source": [
    "# 기업명 검색\n",
    "tmp_corp = corp_list.find_by_corp_name('대한화섬', exactly=True)[0]\n",
    "tmp_corp"
   ]
  },
  {
   "cell_type": "code",
   "execution_count": 56,
   "id": "592ed0e0",
   "metadata": {},
   "outputs": [
    {
     "data": {
      "text/plain": [
       "440    명신산업\n",
       "414      CJ\n",
       "548    대한화섬\n",
       "685      웅진\n",
       "71     일성건설\n",
       "Name: 회사명, dtype: object"
      ]
     },
     "execution_count": 56,
     "metadata": {},
     "output_type": "execute_result"
    }
   ],
   "source": [
    "tmp_corps"
   ]
  },
  {
   "cell_type": "code",
   "execution_count": 191,
   "id": "32600f58",
   "metadata": {},
   "outputs": [
    {
     "data": {
      "application/vnd.jupyter.widget-view+json": {
       "model_id": "1378c848de5a4e81a2a126687aacc35e",
       "version_major": 2,
       "version_minor": 0
      },
      "text/plain": [
       "Annual reports:   0%|          | 0/4 [00:00<?, ?report/s]"
      ]
     },
     "metadata": {},
     "output_type": "display_data"
    }
   ],
   "source": [
    "corp_code = '00126380'\n",
    "corp = corp_list.find_by_corp_name(corp_code)\n",
    "fs = dart.fs.extract(corp_code=corp_code, bgn_de='20200101')"
   ]
  },
  {
   "cell_type": "markdown",
   "id": "2367fab5",
   "metadata": {},
   "source": [
    "https://dart-fss.readthedocs.io/en/latest/dart_fs.html#id2"
   ]
  },
  {
   "cell_type": "code",
   "execution_count": null,
   "id": "64c094e2",
   "metadata": {},
   "outputs": [
    {
     "data": {
      "application/vnd.jupyter.widget-view+json": {
       "model_id": "197dee4ec94a4d79b2d761d6326cdde9",
       "version_major": 2,
       "version_minor": 0
      },
      "text/plain": [
       "Annual reports:   0%|          | 0/4 [00:00<?, ?report/s]"
      ]
     },
     "metadata": {},
     "output_type": "display_data"
    },
    {
     "data": {
      "application/vnd.jupyter.widget-view+json": {
       "model_id": "4135701f588a4a0985ff4fb1d78a4d25",
       "version_major": 2,
       "version_minor": 0
      },
      "text/plain": [
       "Semiannual reports:   0%|          | 0/3 [00:00<?, ?report/s]"
      ]
     },
     "metadata": {},
     "output_type": "display_data"
    }
   ],
   "source": [
    "corp_code = '00126380'\n",
    "corp = corp_list.find_by_corp_name(corp_code)\n",
    "fs = dart.fs.extract(corp_code=corp_code, bgn_de='20200101', report_tp='half', lang='ko')"
   ]
  },
  {
   "cell_type": "code",
   "execution_count": null,
   "id": "869677fc",
   "metadata": {},
   "outputs": [],
   "source": []
  },
  {
   "cell_type": "markdown",
   "id": "11d751ae",
   "metadata": {},
   "source": [
    "# 현대차 재무제표 불러오기, 정제, 다운로드"
   ]
  },
  {
   "cell_type": "code",
   "execution_count": 57,
   "id": "6fd70c28",
   "metadata": {},
   "outputs": [
    {
     "data": {
      "application/vnd.jupyter.widget-view+json": {
       "model_id": "dfb6fb6747054d018b2eca3c120f7bec",
       "version_major": 2,
       "version_minor": 0
      },
      "text/plain": [
       "Annual reports:   0%|          | 0/9 [00:00<?, ?report/s]"
      ]
     },
     "metadata": {},
     "output_type": "display_data"
    }
   ],
   "source": [
    "dart.set_api_key(api_key = api_key)\n",
    "corp_list = dart.get_corp_list()\n",
    "code = corp_list.find_by_corp_name('현대자동차', exactly=True)[0]\n",
    "\n",
    "fs = code.extract_fs(bgn_de='20210101')"
   ]
  },
  {
   "cell_type": "code",
   "execution_count": 58,
   "id": "945e639f",
   "metadata": {},
   "outputs": [
    {
     "data": {
      "text/plain": [
       "'C:\\\\Users\\\\jjgus\\\\OneDrive - 123\\\\바탕 화면\\\\재무제표데이터소싱\\\\jupyter notebook\\\\fsdata\\\\00164742_annual.xlsx'"
      ]
     },
     "execution_count": 58,
     "metadata": {},
     "output_type": "execute_result"
    }
   ],
   "source": [
    "fs.save()"
   ]
  },
  {
   "cell_type": "code",
   "execution_count": 59,
   "id": "d9322fb9",
   "metadata": {},
   "outputs": [
    {
     "data": {
      "text/html": [
       "\n",
       "    <style scoped>\n",
       "        .dart-table tbody tr th {\n",
       "            vertical-align: top;\n",
       "            text-overflow: ellipsis;\n",
       "        }\n",
       "        .dart-table thead th {\n",
       "            text-align: right;\n",
       "            text-overflow: ellipsis;\n",
       "        }\n",
       "    </style>\n",
       "    <table border=\"1\" class=\"dart-table\"><thead><tr style=\"text-align: right;\"><th>Label</th><th>Data</th></tr></thead><tbody><tr><th>corp_code</th><td>00164742</td></tr><tr><th>bgn_de</th><td>20210101</td></tr><tr><th>end_de</th><td>None</td></tr><tr><th>separate</th><td>False</td></tr><tr><th>report_tp</th><td>annual</td></tr><tr><th>lang</th><td>ko</td></tr><tr><th>separator</th><td>True</td></tr><tr><th>financial statement</th><td><table style=\"width:100%\"><thead><tr><th width=\"20\">No.</th><th>title</th></tr></thead><tbody><tr><th width=\"20\">0</th><td>[D210000] Statement of financial position, current/non-current - Consolidated financial statements (Unit: KRW)</td></tr><tr><th width=\"20\">1</th><td>[D310000] Income statement, by function of expense - Consolidated financial statements (Unit: KRW)</td></tr><tr><th width=\"20\">2</th><td>[D410000] Statement of comprehensive income - Consolidated financial statements (Unit: KRW)</td></tr><tr><th width=\"20\">3</th><td>[D520000] Statement of cash flows, indirect method - Consolidated financial statements (Unit: KRW)</td></tr></tbody></table></td></tr></tbody></table>"
      ],
      "text/plain": [
       "{'bgn_de': '20210101',\n",
       " 'corp_code': '00164742',\n",
       " 'end_de': None,\n",
       " 'financial statement': [{'title': '[D210000] Statement of financial position, '\n",
       "                                   'current/non-current - Consolidated '\n",
       "                                   'financial statements (Unit: KRW)'},\n",
       "                         {'title': '[D310000] Income statement, by function of '\n",
       "                                   'expense - Consolidated financial '\n",
       "                                   'statements (Unit: KRW)'},\n",
       "                         {'title': '[D410000] Statement of comprehensive '\n",
       "                                   'income - Consolidated financial statements '\n",
       "                                   '(Unit: KRW)'},\n",
       "                         {'title': '[D520000] Statement of cash flows, '\n",
       "                                   'indirect method - Consolidated financial '\n",
       "                                   'statements (Unit: KRW)'}],\n",
       " 'lang': 'ko',\n",
       " 'report_tp': 'annual',\n",
       " 'separate': False,\n",
       " 'separator': True}"
      ]
     },
     "execution_count": 59,
     "metadata": {},
     "output_type": "execute_result"
    }
   ],
   "source": [
    "fs"
   ]
  },
  {
   "cell_type": "code",
   "execution_count": 62,
   "id": "7d602df8",
   "metadata": {},
   "outputs": [
    {
     "data": {
      "text/html": [
       "<div>\n",
       "<style scoped>\n",
       "    .dataframe tbody tr th:only-of-type {\n",
       "        vertical-align: middle;\n",
       "    }\n",
       "\n",
       "    .dataframe tbody tr th {\n",
       "        vertical-align: top;\n",
       "    }\n",
       "\n",
       "    .dataframe thead tr th {\n",
       "        text-align: left;\n",
       "    }\n",
       "</style>\n",
       "<table border=\"1\" class=\"dataframe\">\n",
       "  <thead>\n",
       "    <tr>\n",
       "      <th></th>\n",
       "      <th colspan=\"7\" halign=\"left\">[D310000] Income statement, by function of expense - Consolidated financial statements (Unit: KRW)</th>\n",
       "      <th>20220101-20221231</th>\n",
       "      <th>20210101-20211231</th>\n",
       "      <th>20200101-20201231</th>\n",
       "      <th>20190101-20191231</th>\n",
       "      <th>20180101-20181231</th>\n",
       "      <th>20170101-20171231</th>\n",
       "      <th>20160101-20161231</th>\n",
       "      <th>20150101-20151231</th>\n",
       "      <th>20140101-20141231</th>\n",
       "      <th>20130101-20131231</th>\n",
       "      <th>20120101-20121231</th>\n",
       "    </tr>\n",
       "    <tr>\n",
       "      <th></th>\n",
       "      <th>concept_id</th>\n",
       "      <th>label_ko</th>\n",
       "      <th>label_en</th>\n",
       "      <th>class0</th>\n",
       "      <th>class1</th>\n",
       "      <th>class2</th>\n",
       "      <th>class3</th>\n",
       "      <th>(연결재무제표,)</th>\n",
       "      <th>(연결재무제표,)</th>\n",
       "      <th>(연결재무제표,)</th>\n",
       "      <th>(연결재무제표,)</th>\n",
       "      <th>(연결재무제표,)</th>\n",
       "      <th>(연결재무제표,)</th>\n",
       "      <th>(연결재무제표,)</th>\n",
       "      <th>(연결재무제표,)</th>\n",
       "      <th>(연결재무제표,)</th>\n",
       "      <th>(연결재무제표,)</th>\n",
       "      <th>(연결재무제표,)</th>\n",
       "    </tr>\n",
       "  </thead>\n",
       "  <tbody>\n",
       "    <tr>\n",
       "      <th>0</th>\n",
       "      <td>ifrs-full_Revenue</td>\n",
       "      <td>매출액</td>\n",
       "      <td>Sales</td>\n",
       "      <td>손익계산서 [abstract]</td>\n",
       "      <td>매출액</td>\n",
       "      <td>None</td>\n",
       "      <td>None</td>\n",
       "      <td>142,527,535,000,000.0</td>\n",
       "      <td>117,610,626,000,000.0</td>\n",
       "      <td>103,997,601,000,000.0</td>\n",
       "      <td>105,746,422,000,000.0</td>\n",
       "      <td>96,812,609,000,000.0</td>\n",
       "      <td>96,376,079,000,000.0</td>\n",
       "      <td>93,649,024,000,000.0</td>\n",
       "      <td>91,958,736,000,000.0</td>\n",
       "      <td>89,256,319,000,000.0</td>\n",
       "      <td>87,307,636,000,000.0</td>\n",
       "      <td>84,469,721,000,000.0</td>\n",
       "    </tr>\n",
       "    <tr>\n",
       "      <th>1</th>\n",
       "      <td>ifrs-full_CostOfSales</td>\n",
       "      <td>매출원가</td>\n",
       "      <td>Cost of sales</td>\n",
       "      <td>손익계산서 [abstract]</td>\n",
       "      <td>매출원가</td>\n",
       "      <td>None</td>\n",
       "      <td>None</td>\n",
       "      <td>114,209,483,000,000.0</td>\n",
       "      <td>95,680,131,000,000.0</td>\n",
       "      <td>85,515,931,000,000.0</td>\n",
       "      <td>88,091,409,000,000.0</td>\n",
       "      <td>81,670,479,000,000.0</td>\n",
       "      <td>78,798,172,000,000.0</td>\n",
       "      <td>75,959,720,000,000.0</td>\n",
       "      <td>73,701,296,000,000.0</td>\n",
       "      <td>70,126,276,000,000.0</td>\n",
       "      <td>67,859,491,000,000.0</td>\n",
       "      <td>64,967,273,000,000.0</td>\n",
       "    </tr>\n",
       "    <tr>\n",
       "      <th>2</th>\n",
       "      <td>ifrs-full_GrossProfit</td>\n",
       "      <td>매출총이익</td>\n",
       "      <td>Gross profit</td>\n",
       "      <td>손익계산서 [abstract]</td>\n",
       "      <td>매출총이익</td>\n",
       "      <td>None</td>\n",
       "      <td>None</td>\n",
       "      <td>28,318,052,000,000.0</td>\n",
       "      <td>21,930,495,000,000.0</td>\n",
       "      <td>18,481,670,000,000.0</td>\n",
       "      <td>17,655,013,000,000.0</td>\n",
       "      <td>15,142,130,000,000.0</td>\n",
       "      <td>17,577,907,000,000.0</td>\n",
       "      <td>17,689,304,000,000.0</td>\n",
       "      <td>18,257,440,000,000.0</td>\n",
       "      <td>19,130,043,000,000.0</td>\n",
       "      <td>19,448,145,000,000.0</td>\n",
       "      <td>19,502,448,000,000.0</td>\n",
       "    </tr>\n",
       "    <tr>\n",
       "      <th>3</th>\n",
       "      <td>dart_TotalSellingGeneralAdministrativeExpenses</td>\n",
       "      <td>판매비와관리비</td>\n",
       "      <td>Selling and administrative expenses</td>\n",
       "      <td>손익계산서 [abstract]</td>\n",
       "      <td>판매비와관리비</td>\n",
       "      <td>None</td>\n",
       "      <td>None</td>\n",
       "      <td>18,498,283,000,000.0</td>\n",
       "      <td>15,251,546,000,000.0</td>\n",
       "      <td>16,086,999,000,000.0</td>\n",
       "      <td>14,049,508,000,000.0</td>\n",
       "      <td>12,719,965,000,000.0</td>\n",
       "      <td>13,003,240,000,000.0</td>\n",
       "      <td>12,495,804,000,000.0</td>\n",
       "      <td>11,899,534,000,000.0</td>\n",
       "      <td>11,580,057,000,000.0</td>\n",
       "      <td>11,132,648,000,000.0</td>\n",
       "      <td>11,061,847,000,000.0</td>\n",
       "    </tr>\n",
       "    <tr>\n",
       "      <th>4</th>\n",
       "      <td>dart_OperatingIncomeLoss</td>\n",
       "      <td>영업이익</td>\n",
       "      <td>Operating income(loss)</td>\n",
       "      <td>손익계산서 [abstract]</td>\n",
       "      <td>영업이익</td>\n",
       "      <td>None</td>\n",
       "      <td>None</td>\n",
       "      <td>9,819,769,000,000.0</td>\n",
       "      <td>6,678,949,000,000.0</td>\n",
       "      <td>2,394,671,000,000.0</td>\n",
       "      <td>3,605,505,000,000.0</td>\n",
       "      <td>2,422,165,000,000.0</td>\n",
       "      <td>4,574,667,000,000.0</td>\n",
       "      <td>5,193,500,000,000.0</td>\n",
       "      <td>6,357,906,000,000.0</td>\n",
       "      <td>7,549,986,000,000.0</td>\n",
       "      <td>8,315,497,000,000.0</td>\n",
       "      <td>8,440,601,000,000.0</td>\n",
       "    </tr>\n",
       "  </tbody>\n",
       "</table>\n",
       "</div>"
      ],
      "text/plain": [
       "  [D310000] Income statement, by function of expense - Consolidated financial statements (Unit: KRW)  \\\n",
       "                                                                                          concept_id   \n",
       "0                                  ifrs-full_Revenue                                                   \n",
       "1                              ifrs-full_CostOfSales                                                   \n",
       "2                              ifrs-full_GrossProfit                                                   \n",
       "3     dart_TotalSellingGeneralAdministrativeExpenses                                                   \n",
       "4                           dart_OperatingIncomeLoss                                                   \n",
       "\n",
       "                                                                            \\\n",
       "  label_ko                             label_en            class0   class1   \n",
       "0      매출액                                Sales  손익계산서 [abstract]      매출액   \n",
       "1     매출원가                        Cost of sales  손익계산서 [abstract]     매출원가   \n",
       "2    매출총이익                         Gross profit  손익계산서 [abstract]    매출총이익   \n",
       "3  판매비와관리비  Selling and administrative expenses  손익계산서 [abstract]  판매비와관리비   \n",
       "4     영업이익               Operating income(loss)  손익계산서 [abstract]     영업이익   \n",
       "\n",
       "                    20220101-20221231     20210101-20211231  \\\n",
       "  class2 class3             (연결재무제표,)             (연결재무제표,)   \n",
       "0   None   None 142,527,535,000,000.0 117,610,626,000,000.0   \n",
       "1   None   None 114,209,483,000,000.0  95,680,131,000,000.0   \n",
       "2   None   None  28,318,052,000,000.0  21,930,495,000,000.0   \n",
       "3   None   None  18,498,283,000,000.0  15,251,546,000,000.0   \n",
       "4   None   None   9,819,769,000,000.0   6,678,949,000,000.0   \n",
       "\n",
       "      20200101-20201231     20190101-20191231    20180101-20181231  \\\n",
       "              (연결재무제표,)             (연결재무제표,)            (연결재무제표,)   \n",
       "0 103,997,601,000,000.0 105,746,422,000,000.0 96,812,609,000,000.0   \n",
       "1  85,515,931,000,000.0  88,091,409,000,000.0 81,670,479,000,000.0   \n",
       "2  18,481,670,000,000.0  17,655,013,000,000.0 15,142,130,000,000.0   \n",
       "3  16,086,999,000,000.0  14,049,508,000,000.0 12,719,965,000,000.0   \n",
       "4   2,394,671,000,000.0   3,605,505,000,000.0  2,422,165,000,000.0   \n",
       "\n",
       "     20170101-20171231    20160101-20161231    20150101-20151231  \\\n",
       "             (연결재무제표,)            (연결재무제표,)            (연결재무제표,)   \n",
       "0 96,376,079,000,000.0 93,649,024,000,000.0 91,958,736,000,000.0   \n",
       "1 78,798,172,000,000.0 75,959,720,000,000.0 73,701,296,000,000.0   \n",
       "2 17,577,907,000,000.0 17,689,304,000,000.0 18,257,440,000,000.0   \n",
       "3 13,003,240,000,000.0 12,495,804,000,000.0 11,899,534,000,000.0   \n",
       "4  4,574,667,000,000.0  5,193,500,000,000.0  6,357,906,000,000.0   \n",
       "\n",
       "     20140101-20141231    20130101-20131231    20120101-20121231  \n",
       "             (연결재무제표,)            (연결재무제표,)            (연결재무제표,)  \n",
       "0 89,256,319,000,000.0 87,307,636,000,000.0 84,469,721,000,000.0  \n",
       "1 70,126,276,000,000.0 67,859,491,000,000.0 64,967,273,000,000.0  \n",
       "2 19,130,043,000,000.0 19,448,145,000,000.0 19,502,448,000,000.0  \n",
       "3 11,580,057,000,000.0 11,132,648,000,000.0 11,061,847,000,000.0  \n",
       "4  7,549,986,000,000.0  8,315,497,000,000.0  8,440,601,000,000.0  "
      ]
     },
     "execution_count": 62,
     "metadata": {},
     "output_type": "execute_result"
    }
   ],
   "source": [
    "df_is=fs['is']\n",
    "df_is.head()"
   ]
  },
  {
   "cell_type": "code",
   "execution_count": 63,
   "id": "fd7a90e9",
   "metadata": {},
   "outputs": [
    {
     "data": {
      "text/html": [
       "<div>\n",
       "<style scoped>\n",
       "    .dataframe tbody tr th:only-of-type {\n",
       "        vertical-align: middle;\n",
       "    }\n",
       "\n",
       "    .dataframe tbody tr th {\n",
       "        vertical-align: top;\n",
       "    }\n",
       "\n",
       "    .dataframe thead th {\n",
       "        text-align: right;\n",
       "    }\n",
       "</style>\n",
       "<table border=\"1\" class=\"dataframe\">\n",
       "  <thead>\n",
       "    <tr style=\"text-align: right;\">\n",
       "      <th></th>\n",
       "      <th>(연결재무제표,)</th>\n",
       "    </tr>\n",
       "  </thead>\n",
       "  <tbody>\n",
       "    <tr>\n",
       "      <th>16</th>\n",
       "      <td>5,454.0</td>\n",
       "    </tr>\n",
       "    <tr>\n",
       "      <th>17</th>\n",
       "      <td>5,502.0</td>\n",
       "    </tr>\n",
       "    <tr>\n",
       "      <th>18</th>\n",
       "      <td>NaN</td>\n",
       "    </tr>\n",
       "    <tr>\n",
       "      <th>19</th>\n",
       "      <td>5,454.0</td>\n",
       "    </tr>\n",
       "    <tr>\n",
       "      <th>20</th>\n",
       "      <td>5,502.0</td>\n",
       "    </tr>\n",
       "  </tbody>\n",
       "</table>\n",
       "</div>"
      ],
      "text/plain": [
       "    (연결재무제표,)\n",
       "16    5,454.0\n",
       "17    5,502.0\n",
       "18        NaN\n",
       "19    5,454.0\n",
       "20    5,502.0"
      ]
     },
     "execution_count": 63,
     "metadata": {},
     "output_type": "execute_result"
    }
   ],
   "source": [
    "df_is['20200101-20201231'].tail()"
   ]
  },
  {
   "cell_type": "code",
   "execution_count": 116,
   "id": "6e9be07d",
   "metadata": {},
   "outputs": [
    {
     "data": {
      "text/html": [
       "<div>\n",
       "<style scoped>\n",
       "    .dataframe tbody tr th:only-of-type {\n",
       "        vertical-align: middle;\n",
       "    }\n",
       "\n",
       "    .dataframe tbody tr th {\n",
       "        vertical-align: top;\n",
       "    }\n",
       "\n",
       "    .dataframe thead tr th {\n",
       "        text-align: left;\n",
       "    }\n",
       "</style>\n",
       "<table border=\"1\" class=\"dataframe\">\n",
       "  <thead>\n",
       "    <tr>\n",
       "      <th></th>\n",
       "      <th colspan=\"7\" halign=\"left\">[D310000] Income statement, by function of expense - Consolidated financial statements (Unit: KRW)</th>\n",
       "      <th>20200101-20201231</th>\n",
       "      <th>20190101-20191231</th>\n",
       "      <th>20180101-20181231</th>\n",
       "      <th>20170101-20171231</th>\n",
       "      <th>20160101-20161231</th>\n",
       "      <th>20150101-20151231</th>\n",
       "      <th>20140101-20141231</th>\n",
       "      <th>20130101-20131231</th>\n",
       "    </tr>\n",
       "    <tr>\n",
       "      <th></th>\n",
       "      <th>concept_id</th>\n",
       "      <th>label_ko</th>\n",
       "      <th>label_en</th>\n",
       "      <th>class0</th>\n",
       "      <th>class1</th>\n",
       "      <th>class2</th>\n",
       "      <th>class3</th>\n",
       "      <th>(연결재무제표,)</th>\n",
       "      <th>(연결재무제표,)</th>\n",
       "      <th>(연결재무제표,)</th>\n",
       "      <th>(연결재무제표,)</th>\n",
       "      <th>(연결재무제표,)</th>\n",
       "      <th>(연결재무제표,)</th>\n",
       "      <th>(연결재무제표,)</th>\n",
       "      <th>(연결재무제표,)</th>\n",
       "    </tr>\n",
       "  </thead>\n",
       "  <tbody>\n",
       "    <tr>\n",
       "      <th>0</th>\n",
       "      <td>ifrs-full_Revenue</td>\n",
       "      <td>매출액</td>\n",
       "      <td>Sales</td>\n",
       "      <td>손익계산서 [abstract]</td>\n",
       "      <td>매출액</td>\n",
       "      <td>None</td>\n",
       "      <td>None</td>\n",
       "      <td>103,997,601,000,000.0</td>\n",
       "      <td>105,746,422,000,000.0</td>\n",
       "      <td>96,812,609,000,000.0</td>\n",
       "      <td>96,376,079,000,000.0</td>\n",
       "      <td>93,649,024,000,000.0</td>\n",
       "      <td>91,958,736,000,000.0</td>\n",
       "      <td>89,256,319,000,000.0</td>\n",
       "      <td>87,307,636,000,000.0</td>\n",
       "    </tr>\n",
       "    <tr>\n",
       "      <th>1</th>\n",
       "      <td>ifrs-full_CostOfSales</td>\n",
       "      <td>매출원가</td>\n",
       "      <td>Cost of sales</td>\n",
       "      <td>손익계산서 [abstract]</td>\n",
       "      <td>매출원가</td>\n",
       "      <td>None</td>\n",
       "      <td>None</td>\n",
       "      <td>85,515,931,000,000.0</td>\n",
       "      <td>88,091,409,000,000.0</td>\n",
       "      <td>81,670,479,000,000.0</td>\n",
       "      <td>78,798,172,000,000.0</td>\n",
       "      <td>75,959,720,000,000.0</td>\n",
       "      <td>73,701,296,000,000.0</td>\n",
       "      <td>70,126,276,000,000.0</td>\n",
       "      <td>67,859,491,000,000.0</td>\n",
       "    </tr>\n",
       "    <tr>\n",
       "      <th>2</th>\n",
       "      <td>ifrs-full_GrossProfit</td>\n",
       "      <td>매출총이익</td>\n",
       "      <td>Gross profit</td>\n",
       "      <td>손익계산서 [abstract]</td>\n",
       "      <td>매출총이익</td>\n",
       "      <td>None</td>\n",
       "      <td>None</td>\n",
       "      <td>18,481,670,000,000.0</td>\n",
       "      <td>17,655,013,000,000.0</td>\n",
       "      <td>15,142,130,000,000.0</td>\n",
       "      <td>17,577,907,000,000.0</td>\n",
       "      <td>17,689,304,000,000.0</td>\n",
       "      <td>18,257,440,000,000.0</td>\n",
       "      <td>19,130,043,000,000.0</td>\n",
       "      <td>19,448,145,000,000.0</td>\n",
       "    </tr>\n",
       "    <tr>\n",
       "      <th>3</th>\n",
       "      <td>dart_TotalSellingGeneralAdministrativeExpenses</td>\n",
       "      <td>판매비와관리비</td>\n",
       "      <td>Selling and administrative expenses</td>\n",
       "      <td>손익계산서 [abstract]</td>\n",
       "      <td>판매비와관리비</td>\n",
       "      <td>None</td>\n",
       "      <td>None</td>\n",
       "      <td>16,086,999,000,000.0</td>\n",
       "      <td>14,049,508,000,000.0</td>\n",
       "      <td>12,719,965,000,000.0</td>\n",
       "      <td>13,003,240,000,000.0</td>\n",
       "      <td>12,495,804,000,000.0</td>\n",
       "      <td>11,899,534,000,000.0</td>\n",
       "      <td>11,580,057,000,000.0</td>\n",
       "      <td>11,132,648,000,000.0</td>\n",
       "    </tr>\n",
       "    <tr>\n",
       "      <th>4</th>\n",
       "      <td>dart_OperatingIncomeLoss</td>\n",
       "      <td>영업이익</td>\n",
       "      <td>Operating income(loss)</td>\n",
       "      <td>손익계산서 [abstract]</td>\n",
       "      <td>영업이익</td>\n",
       "      <td>None</td>\n",
       "      <td>None</td>\n",
       "      <td>2,394,671,000,000.0</td>\n",
       "      <td>3,605,505,000,000.0</td>\n",
       "      <td>2,422,165,000,000.0</td>\n",
       "      <td>4,574,667,000,000.0</td>\n",
       "      <td>5,193,500,000,000.0</td>\n",
       "      <td>6,357,906,000,000.0</td>\n",
       "      <td>7,549,986,000,000.0</td>\n",
       "      <td>8,315,497,000,000.0</td>\n",
       "    </tr>\n",
       "  </tbody>\n",
       "</table>\n",
       "</div>"
      ],
      "text/plain": [
       "  [D310000] Income statement, by function of expense - Consolidated financial statements (Unit: KRW)  \\\n",
       "                                                                                          concept_id   \n",
       "0                                  ifrs-full_Revenue                                                   \n",
       "1                              ifrs-full_CostOfSales                                                   \n",
       "2                              ifrs-full_GrossProfit                                                   \n",
       "3     dart_TotalSellingGeneralAdministrativeExpenses                                                   \n",
       "4                           dart_OperatingIncomeLoss                                                   \n",
       "\n",
       "                                                                            \\\n",
       "  label_ko                             label_en            class0   class1   \n",
       "0      매출액                                Sales  손익계산서 [abstract]      매출액   \n",
       "1     매출원가                        Cost of sales  손익계산서 [abstract]     매출원가   \n",
       "2    매출총이익                         Gross profit  손익계산서 [abstract]    매출총이익   \n",
       "3  판매비와관리비  Selling and administrative expenses  손익계산서 [abstract]  판매비와관리비   \n",
       "4     영업이익               Operating income(loss)  손익계산서 [abstract]     영업이익   \n",
       "\n",
       "                    20200101-20201231     20190101-20191231  \\\n",
       "  class2 class3             (연결재무제표,)             (연결재무제표,)   \n",
       "0   None   None 103,997,601,000,000.0 105,746,422,000,000.0   \n",
       "1   None   None  85,515,931,000,000.0  88,091,409,000,000.0   \n",
       "2   None   None  18,481,670,000,000.0  17,655,013,000,000.0   \n",
       "3   None   None  16,086,999,000,000.0  14,049,508,000,000.0   \n",
       "4   None   None   2,394,671,000,000.0   3,605,505,000,000.0   \n",
       "\n",
       "     20180101-20181231    20170101-20171231    20160101-20161231  \\\n",
       "             (연결재무제표,)            (연결재무제표,)            (연결재무제표,)   \n",
       "0 96,812,609,000,000.0 96,376,079,000,000.0 93,649,024,000,000.0   \n",
       "1 81,670,479,000,000.0 78,798,172,000,000.0 75,959,720,000,000.0   \n",
       "2 15,142,130,000,000.0 17,577,907,000,000.0 17,689,304,000,000.0   \n",
       "3 12,719,965,000,000.0 13,003,240,000,000.0 12,495,804,000,000.0   \n",
       "4  2,422,165,000,000.0  4,574,667,000,000.0  5,193,500,000,000.0   \n",
       "\n",
       "     20150101-20151231    20140101-20141231    20130101-20131231  \n",
       "             (연결재무제표,)            (연결재무제표,)            (연결재무제표,)  \n",
       "0 91,958,736,000,000.0 89,256,319,000,000.0 87,307,636,000,000.0  \n",
       "1 73,701,296,000,000.0 70,126,276,000,000.0 67,859,491,000,000.0  \n",
       "2 18,257,440,000,000.0 19,130,043,000,000.0 19,448,145,000,000.0  \n",
       "3 11,899,534,000,000.0 11,580,057,000,000.0 11,132,648,000,000.0  \n",
       "4  6,357,906,000,000.0  7,549,986,000,000.0  8,315,497,000,000.0  "
      ]
     },
     "execution_count": 116,
     "metadata": {},
     "output_type": "execute_result"
    }
   ],
   "source": [
    "df_is.head()"
   ]
  },
  {
   "cell_type": "code",
   "execution_count": 64,
   "id": "b1d887a7",
   "metadata": {},
   "outputs": [],
   "source": [
    "df_contents=df_is[['20200101-20201231','20190101-20191231','20180101-20181231','20170101-20171231','20160101-20161231']]"
   ]
  },
  {
   "cell_type": "code",
   "execution_count": 65,
   "id": "ce228f50",
   "metadata": {},
   "outputs": [],
   "source": [
    "import pandas as pd\n",
    "\n",
    "index = df_is['[D310000] Income statement, by function of expense - Consolidated financial statements (Unit: KRW)']['label_ko']\n",
    "df_index = pd.DataFrame(index)\n",
    "df_contents = df_is[['20200101-20201231','20190101-20191231','20180101-20181231','20170101-20171231','20160101-20161231']].droplevel(1,axis=1)\n",
    "\n",
    "income_statement = pd.merge(df_index, df_contents, left_index=True, right_index=True)\n",
    "\n",
    "income_statement.columns=['Label','2020','2019','2018','2017','2016']"
   ]
  },
  {
   "cell_type": "code",
   "execution_count": 66,
   "id": "a8609b76",
   "metadata": {
    "scrolled": true
   },
   "outputs": [
    {
     "data": {
      "text/html": [
       "<div>\n",
       "<style scoped>\n",
       "    .dataframe tbody tr th:only-of-type {\n",
       "        vertical-align: middle;\n",
       "    }\n",
       "\n",
       "    .dataframe tbody tr th {\n",
       "        vertical-align: top;\n",
       "    }\n",
       "\n",
       "    .dataframe thead th {\n",
       "        text-align: right;\n",
       "    }\n",
       "</style>\n",
       "<table border=\"1\" class=\"dataframe\">\n",
       "  <thead>\n",
       "    <tr style=\"text-align: right;\">\n",
       "      <th></th>\n",
       "      <th>Label</th>\n",
       "      <th>2020</th>\n",
       "      <th>2019</th>\n",
       "      <th>2018</th>\n",
       "      <th>2017</th>\n",
       "      <th>2016</th>\n",
       "    </tr>\n",
       "  </thead>\n",
       "  <tbody>\n",
       "    <tr>\n",
       "      <th>0</th>\n",
       "      <td>매출액</td>\n",
       "      <td>103,997,601,000,000.0</td>\n",
       "      <td>105,746,422,000,000.0</td>\n",
       "      <td>96,812,609,000,000.0</td>\n",
       "      <td>96,376,079,000,000.0</td>\n",
       "      <td>93,649,024,000,000.0</td>\n",
       "    </tr>\n",
       "    <tr>\n",
       "      <th>1</th>\n",
       "      <td>매출원가</td>\n",
       "      <td>85,515,931,000,000.0</td>\n",
       "      <td>88,091,409,000,000.0</td>\n",
       "      <td>81,670,479,000,000.0</td>\n",
       "      <td>78,798,172,000,000.0</td>\n",
       "      <td>75,959,720,000,000.0</td>\n",
       "    </tr>\n",
       "    <tr>\n",
       "      <th>2</th>\n",
       "      <td>매출총이익</td>\n",
       "      <td>18,481,670,000,000.0</td>\n",
       "      <td>17,655,013,000,000.0</td>\n",
       "      <td>15,142,130,000,000.0</td>\n",
       "      <td>17,577,907,000,000.0</td>\n",
       "      <td>17,689,304,000,000.0</td>\n",
       "    </tr>\n",
       "    <tr>\n",
       "      <th>3</th>\n",
       "      <td>판매비와관리비</td>\n",
       "      <td>16,086,999,000,000.0</td>\n",
       "      <td>14,049,508,000,000.0</td>\n",
       "      <td>12,719,965,000,000.0</td>\n",
       "      <td>13,003,240,000,000.0</td>\n",
       "      <td>12,495,804,000,000.0</td>\n",
       "    </tr>\n",
       "    <tr>\n",
       "      <th>4</th>\n",
       "      <td>영업이익</td>\n",
       "      <td>2,394,671,000,000.0</td>\n",
       "      <td>3,605,505,000,000.0</td>\n",
       "      <td>2,422,165,000,000.0</td>\n",
       "      <td>4,574,667,000,000.0</td>\n",
       "      <td>5,193,500,000,000.0</td>\n",
       "    </tr>\n",
       "    <tr>\n",
       "      <th>5</th>\n",
       "      <td>공동기업및관계기업투자손익</td>\n",
       "      <td>162,162,000,000.0</td>\n",
       "      <td>542,826,000,000.0</td>\n",
       "      <td>404,541,000,000.0</td>\n",
       "      <td>225,053,000,000.0</td>\n",
       "      <td>1,729,447,000,000.0</td>\n",
       "    </tr>\n",
       "    <tr>\n",
       "      <th>6</th>\n",
       "      <td>금융수익</td>\n",
       "      <td>813,916,000,000.0</td>\n",
       "      <td>827,120,000,000.0</td>\n",
       "      <td>823,499,000,000.0</td>\n",
       "      <td>972,943,000,000.0</td>\n",
       "      <td>1,111,238,000,000.0</td>\n",
       "    </tr>\n",
       "    <tr>\n",
       "      <th>7</th>\n",
       "      <td>금융비용</td>\n",
       "      <td>955,991,000,000.0</td>\n",
       "      <td>475,218,000,000.0</td>\n",
       "      <td>600,867,000,000.0</td>\n",
       "      <td>1,120,386,000,000.0</td>\n",
       "      <td>678,037,000,000.0</td>\n",
       "    </tr>\n",
       "    <tr>\n",
       "      <th>8</th>\n",
       "      <td>기타수익</td>\n",
       "      <td>1,308,642,000,000.0</td>\n",
       "      <td>1,120,958,000,000.0</td>\n",
       "      <td>967,281,000,000.0</td>\n",
       "      <td>1,153,744,000,000.0</td>\n",
       "      <td>1,177,887,000,000.0</td>\n",
       "    </tr>\n",
       "    <tr>\n",
       "      <th>9</th>\n",
       "      <td>기타비용</td>\n",
       "      <td>1,630,144,000,000.0</td>\n",
       "      <td>1,457,425,000,000.0</td>\n",
       "      <td>1,487,037,000,000.0</td>\n",
       "      <td>1,367,471,000,000.0</td>\n",
       "      <td>1,226,963,000,000.0</td>\n",
       "    </tr>\n",
       "    <tr>\n",
       "      <th>10</th>\n",
       "      <td>법인세비용차감전순이익</td>\n",
       "      <td>2,093,256,000,000.0</td>\n",
       "      <td>4,163,766,000,000.0</td>\n",
       "      <td>2,529,582,000,000.0</td>\n",
       "      <td>4,438,550,000,000.0</td>\n",
       "      <td>7,307,072,000,000.0</td>\n",
       "    </tr>\n",
       "    <tr>\n",
       "      <th>11</th>\n",
       "      <td>법인세비용(수익)</td>\n",
       "      <td>168,703,000,000.0</td>\n",
       "      <td>978,120,000,000.0</td>\n",
       "      <td>884,563,000,000.0</td>\n",
       "      <td>-107,850,000,000.0</td>\n",
       "      <td>1,587,419,000,000.0</td>\n",
       "    </tr>\n",
       "    <tr>\n",
       "      <th>12</th>\n",
       "      <td>연결당기순이익</td>\n",
       "      <td>1,924,553,000,000.0</td>\n",
       "      <td>3,185,646,000,000.0</td>\n",
       "      <td>1,645,019,000,000.0</td>\n",
       "      <td>4,546,400,000,000.0</td>\n",
       "      <td>5,719,653,000,000.0</td>\n",
       "    </tr>\n",
       "    <tr>\n",
       "      <th>13</th>\n",
       "      <td>지배기업소유주지분</td>\n",
       "      <td>1,424,436,000,000.0</td>\n",
       "      <td>2,980,049,000,000.0</td>\n",
       "      <td>1,508,084,000,000.0</td>\n",
       "      <td>4,032,824,000,000.0</td>\n",
       "      <td>5,406,435,000,000.0</td>\n",
       "    </tr>\n",
       "    <tr>\n",
       "      <th>14</th>\n",
       "      <td>비지배지분</td>\n",
       "      <td>500,117,000,000.0</td>\n",
       "      <td>205,597,000,000.0</td>\n",
       "      <td>136,935,000,000.0</td>\n",
       "      <td>513,576,000,000.0</td>\n",
       "      <td>313,218,000,000.0</td>\n",
       "    </tr>\n",
       "    <tr>\n",
       "      <th>15</th>\n",
       "      <td>기본주당이익</td>\n",
       "      <td>NaN</td>\n",
       "      <td>NaN</td>\n",
       "      <td>NaN</td>\n",
       "      <td>NaN</td>\n",
       "      <td>NaN</td>\n",
       "    </tr>\n",
       "    <tr>\n",
       "      <th>16</th>\n",
       "      <td>보통주 기본주당이익</td>\n",
       "      <td>5,454.0</td>\n",
       "      <td>11,310.0</td>\n",
       "      <td>5,632.0</td>\n",
       "      <td>14,993.0</td>\n",
       "      <td>20,118.0</td>\n",
       "    </tr>\n",
       "    <tr>\n",
       "      <th>17</th>\n",
       "      <td>1우선주 기본주당이익</td>\n",
       "      <td>5,502.0</td>\n",
       "      <td>11,355.0</td>\n",
       "      <td>5,681.0</td>\n",
       "      <td>15,043.0</td>\n",
       "      <td>20,156.0</td>\n",
       "    </tr>\n",
       "    <tr>\n",
       "      <th>18</th>\n",
       "      <td>희석주당이익</td>\n",
       "      <td>NaN</td>\n",
       "      <td>NaN</td>\n",
       "      <td>NaN</td>\n",
       "      <td>NaN</td>\n",
       "      <td>NaN</td>\n",
       "    </tr>\n",
       "    <tr>\n",
       "      <th>19</th>\n",
       "      <td>보통주 희석주당이익</td>\n",
       "      <td>5,454.0</td>\n",
       "      <td>11,310.0</td>\n",
       "      <td>5,632.0</td>\n",
       "      <td>14,993.0</td>\n",
       "      <td>20,118.0</td>\n",
       "    </tr>\n",
       "    <tr>\n",
       "      <th>20</th>\n",
       "      <td>1우선주 희석주당이익</td>\n",
       "      <td>5,502.0</td>\n",
       "      <td>11,355.0</td>\n",
       "      <td>5,681.0</td>\n",
       "      <td>15,043.0</td>\n",
       "      <td>20,156.0</td>\n",
       "    </tr>\n",
       "  </tbody>\n",
       "</table>\n",
       "</div>"
      ],
      "text/plain": [
       "              Label                  2020                  2019  \\\n",
       "0               매출액 103,997,601,000,000.0 105,746,422,000,000.0   \n",
       "1              매출원가  85,515,931,000,000.0  88,091,409,000,000.0   \n",
       "2             매출총이익  18,481,670,000,000.0  17,655,013,000,000.0   \n",
       "3           판매비와관리비  16,086,999,000,000.0  14,049,508,000,000.0   \n",
       "4              영업이익   2,394,671,000,000.0   3,605,505,000,000.0   \n",
       "5     공동기업및관계기업투자손익     162,162,000,000.0     542,826,000,000.0   \n",
       "6              금융수익     813,916,000,000.0     827,120,000,000.0   \n",
       "7              금융비용     955,991,000,000.0     475,218,000,000.0   \n",
       "8              기타수익   1,308,642,000,000.0   1,120,958,000,000.0   \n",
       "9              기타비용   1,630,144,000,000.0   1,457,425,000,000.0   \n",
       "10      법인세비용차감전순이익   2,093,256,000,000.0   4,163,766,000,000.0   \n",
       "11        법인세비용(수익)     168,703,000,000.0     978,120,000,000.0   \n",
       "12          연결당기순이익   1,924,553,000,000.0   3,185,646,000,000.0   \n",
       "13        지배기업소유주지분   1,424,436,000,000.0   2,980,049,000,000.0   \n",
       "14            비지배지분     500,117,000,000.0     205,597,000,000.0   \n",
       "15           기본주당이익                   NaN                   NaN   \n",
       "16       보통주 기본주당이익               5,454.0              11,310.0   \n",
       "17      1우선주 기본주당이익               5,502.0              11,355.0   \n",
       "18           희석주당이익                   NaN                   NaN   \n",
       "19       보통주 희석주당이익               5,454.0              11,310.0   \n",
       "20      1우선주 희석주당이익               5,502.0              11,355.0   \n",
       "\n",
       "                   2018                 2017                 2016  \n",
       "0  96,812,609,000,000.0 96,376,079,000,000.0 93,649,024,000,000.0  \n",
       "1  81,670,479,000,000.0 78,798,172,000,000.0 75,959,720,000,000.0  \n",
       "2  15,142,130,000,000.0 17,577,907,000,000.0 17,689,304,000,000.0  \n",
       "3  12,719,965,000,000.0 13,003,240,000,000.0 12,495,804,000,000.0  \n",
       "4   2,422,165,000,000.0  4,574,667,000,000.0  5,193,500,000,000.0  \n",
       "5     404,541,000,000.0    225,053,000,000.0  1,729,447,000,000.0  \n",
       "6     823,499,000,000.0    972,943,000,000.0  1,111,238,000,000.0  \n",
       "7     600,867,000,000.0  1,120,386,000,000.0    678,037,000,000.0  \n",
       "8     967,281,000,000.0  1,153,744,000,000.0  1,177,887,000,000.0  \n",
       "9   1,487,037,000,000.0  1,367,471,000,000.0  1,226,963,000,000.0  \n",
       "10  2,529,582,000,000.0  4,438,550,000,000.0  7,307,072,000,000.0  \n",
       "11    884,563,000,000.0   -107,850,000,000.0  1,587,419,000,000.0  \n",
       "12  1,645,019,000,000.0  4,546,400,000,000.0  5,719,653,000,000.0  \n",
       "13  1,508,084,000,000.0  4,032,824,000,000.0  5,406,435,000,000.0  \n",
       "14    136,935,000,000.0    513,576,000,000.0    313,218,000,000.0  \n",
       "15                  NaN                  NaN                  NaN  \n",
       "16              5,632.0             14,993.0             20,118.0  \n",
       "17              5,681.0             15,043.0             20,156.0  \n",
       "18                  NaN                  NaN                  NaN  \n",
       "19              5,632.0             14,993.0             20,118.0  \n",
       "20              5,681.0             15,043.0             20,156.0  "
      ]
     },
     "execution_count": 66,
     "metadata": {},
     "output_type": "execute_result"
    }
   ],
   "source": [
    "# df_index\n",
    "IS = income_statement\n",
    "IS"
   ]
  },
  {
   "cell_type": "code",
   "execution_count": 67,
   "id": "14383f04",
   "metadata": {},
   "outputs": [],
   "source": [
    "IS.to_excel('hyundai_is.xlsx')"
   ]
  },
  {
   "cell_type": "code",
   "execution_count": null,
   "id": "8d87390e",
   "metadata": {},
   "outputs": [],
   "source": []
  },
  {
   "cell_type": "markdown",
   "id": "81672ad3",
   "metadata": {},
   "source": [
    "# Etc"
   ]
  },
  {
   "cell_type": "code",
   "execution_count": null,
   "id": "4b96087c",
   "metadata": {},
   "outputs": [],
   "source": [
    "\n",
    "# Open DART API KEY 설정\n",
    "api_key='e10b8471ac01a418f8888d36542cd39dc82bc330'\n",
    "dart.set_api_key(api_key=api_key)\n",
    "\n",
    "# DART 에 공시된 회사 리스트 불러오기\n",
    "corp_list = dart.get_corp_list()\n",
    "\n",
    "# 삼성전자 검색\n",
    "samsung = corp_list.find_by_corp_name('NAVER', exactly=True)[0]\n",
    "\n",
    "# 2012년부터 연간 연결재무제표 불러오기\n",
    "fs = samsung.extract_fs(bgn_de='20120101')\n",
    "\n",
    "# 재무제표 검색 결과를 엑셀파일로 저장 ( 기본저장위치: 실행폴더/fsdata )\n",
    "fs.save()"
   ]
  },
  {
   "cell_type": "code",
   "execution_count": null,
   "id": "1feba5fa",
   "metadata": {},
   "outputs": [],
   "source": []
  },
  {
   "cell_type": "markdown",
   "id": "e62adf9b",
   "metadata": {},
   "source": [
    "# dart_fss.api\n",
    "https://dart-fss.readthedocs.io/en/latest/dart_api.html"
   ]
  },
  {
   "cell_type": "code",
   "execution_count": 68,
   "id": "fed09553",
   "metadata": {},
   "outputs": [
    {
     "data": {
      "text/plain": [
       "'e10b8471ac01a418f8888d36542cd39dc82bc330'"
      ]
     },
     "execution_count": 68,
     "metadata": {},
     "output_type": "execute_result"
    }
   ],
   "source": [
    "import dart_fss as dart\n",
    "import dart_fss\n",
    "\n",
    "# Open DART API KEY 설정\n",
    "api_key='e10b8471ac01a418f8888d36542cd39dc82bc330'\n",
    "dart.set_api_key(api_key=api_key)"
   ]
  },
  {
   "cell_type": "code",
   "execution_count": 69,
   "id": "8bec8741",
   "metadata": {},
   "outputs": [],
   "source": [
    "api_key = dart.get_api_key()"
   ]
  },
  {
   "cell_type": "code",
   "execution_count": 70,
   "id": "ead5b002",
   "metadata": {},
   "outputs": [
    {
     "data": {
      "application/vnd.jupyter.widget-view+json": {
       "model_id": "a2fc58f4671547c8bc2670736883dd35",
       "version_major": 2,
       "version_minor": 0
      },
      "text/plain": [
       "Output()"
      ]
     },
     "metadata": {},
     "output_type": "display_data"
    }
   ],
   "source": [
    "x = dart_fss.api.filings.get_corp_code()"
   ]
  },
  {
   "cell_type": "code",
   "execution_count": 71,
   "id": "71ce4029",
   "metadata": {},
   "outputs": [
    {
     "data": {
      "text/plain": [
       "'굿앤엘에스'"
      ]
     },
     "execution_count": 71,
     "metadata": {},
     "output_type": "execute_result"
    }
   ],
   "source": [
    "x[2]['corp_name']"
   ]
  },
  {
   "cell_type": "code",
   "execution_count": 73,
   "id": "8a3bcfc7",
   "metadata": {},
   "outputs": [
    {
     "data": {
      "text/plain": [
       "99054"
      ]
     },
     "execution_count": 73,
     "metadata": {},
     "output_type": "execute_result"
    }
   ],
   "source": [
    "len(x)"
   ]
  },
  {
   "cell_type": "code",
   "execution_count": 74,
   "id": "c0ae1020",
   "metadata": {},
   "outputs": [
    {
     "data": {
      "text/plain": [
       "[{'corp_code': '00434003',\n",
       "  'corp_name': '다코',\n",
       "  'stock_code': None,\n",
       "  'modify_date': '20170630'},\n",
       " {'corp_code': '00434456',\n",
       "  'corp_name': '일산약품',\n",
       "  'stock_code': None,\n",
       "  'modify_date': '20170630'},\n",
       " {'corp_code': '00430964',\n",
       "  'corp_name': '굿앤엘에스',\n",
       "  'stock_code': None,\n",
       "  'modify_date': '20170630'},\n",
       " {'corp_code': '00432403',\n",
       "  'corp_name': '한라판지',\n",
       "  'stock_code': None,\n",
       "  'modify_date': '20170630'},\n",
       " {'corp_code': '00388953',\n",
       "  'corp_name': '크레디피아제이십오차유동화전문회사',\n",
       "  'stock_code': None,\n",
       "  'modify_date': '20170630'},\n",
       " {'corp_code': '00179984',\n",
       "  'corp_name': '연방건설산업',\n",
       "  'stock_code': None,\n",
       "  'modify_date': '20170630'}]"
      ]
     },
     "execution_count": 74,
     "metadata": {},
     "output_type": "execute_result"
    }
   ],
   "source": [
    "x[:6]"
   ]
  },
  {
   "cell_type": "code",
   "execution_count": 78,
   "id": "45c26920",
   "metadata": {},
   "outputs": [
    {
     "ename": "NoDataReceived",
     "evalue": "조회된 데이타가 없습니다.",
     "output_type": "error",
     "traceback": [
      "\u001b[1;31m---------------------------------------------------------------------------\u001b[0m",
      "\u001b[1;31mNoDataReceived\u001b[0m                            Traceback (most recent call last)",
      "Input \u001b[1;32mIn [78]\u001b[0m, in \u001b[0;36m<cell line: 4>\u001b[1;34m()\u001b[0m\n\u001b[0;32m      1\u001b[0m \u001b[38;5;66;03m# 삼성전자 code\u001b[39;00m\n\u001b[0;32m      2\u001b[0m corp_code \u001b[38;5;241m=\u001b[39m \u001b[38;5;124m'\u001b[39m\u001b[38;5;124m00126380\u001b[39m\u001b[38;5;124m'\u001b[39m\n\u001b[1;32m----> 4\u001b[0m \u001b[43mdart_fss\u001b[49m\u001b[38;5;241;43m.\u001b[39;49m\u001b[43mapi\u001b[49m\u001b[38;5;241;43m.\u001b[39;49m\u001b[43mfilings\u001b[49m\u001b[38;5;241;43m.\u001b[39;49m\u001b[43msearch_filings\u001b[49m\u001b[43m(\u001b[49m\u001b[43mcorp_code\u001b[49m\u001b[38;5;241;43m=\u001b[39;49m\u001b[43mcorp_code\u001b[49m\u001b[43m)\u001b[49m\n",
      "File \u001b[1;32m~\\anaconda3\\lib\\site-packages\\dart_fss\\api\\filings\\search_filings.py:81\u001b[0m, in \u001b[0;36msearch_filings\u001b[1;34m(corp_code, bgn_de, end_de, last_reprt_at, pblntf_ty, pblntf_detail_ty, corp_cls, sort, sort_mth, page_no, page_count)\u001b[0m\n\u001b[0;32m     78\u001b[0m dataset \u001b[38;5;241m=\u001b[39m resp\u001b[38;5;241m.\u001b[39mjson()\n\u001b[0;32m     80\u001b[0m \u001b[38;5;66;03m# Check Error\u001b[39;00m\n\u001b[1;32m---> 81\u001b[0m check_status(\u001b[38;5;241m*\u001b[39m\u001b[38;5;241m*\u001b[39mdataset)\n\u001b[0;32m     82\u001b[0m \u001b[38;5;28;01mreturn\u001b[39;00m dataset\n",
      "File \u001b[1;32m~\\anaconda3\\lib\\site-packages\\dart_fss\\errors\\checker.py:47\u001b[0m, in \u001b[0;36mcheck_status\u001b[1;34m(**kwargs)\u001b[0m\n\u001b[0;32m     45\u001b[0m \u001b[38;5;28;01mif\u001b[39;00m err \u001b[38;5;129;01mis\u001b[39;00m \u001b[38;5;129;01mnot\u001b[39;00m \u001b[38;5;28;01mNone\u001b[39;00m:\n\u001b[0;32m     46\u001b[0m     msg \u001b[38;5;241m=\u001b[39m kwargs\u001b[38;5;241m.\u001b[39mget(\u001b[38;5;124m'\u001b[39m\u001b[38;5;124mmessage\u001b[39m\u001b[38;5;124m'\u001b[39m)\n\u001b[1;32m---> 47\u001b[0m     \u001b[38;5;28;01mraise\u001b[39;00m err(msg)\n",
      "\u001b[1;31mNoDataReceived\u001b[0m: 조회된 데이타가 없습니다."
     ]
    }
   ],
   "source": [
    "# 삼성전자 code\n",
    "corp_code = '00126380'\n",
    "\n",
    "dart_fss.api.filings.search_filings(corp_code=corp_code)"
   ]
  },
  {
   "cell_type": "code",
   "execution_count": 75,
   "id": "1b9e5a97",
   "metadata": {},
   "outputs": [
    {
     "ename": "NoDataReceived",
     "evalue": "조회된 데이타가 없습니다.",
     "output_type": "error",
     "traceback": [
      "\u001b[1;31m---------------------------------------------------------------------------\u001b[0m",
      "\u001b[1;31mNoDataReceived\u001b[0m                            Traceback (most recent call last)",
      "Input \u001b[1;32mIn [75]\u001b[0m, in \u001b[0;36m<cell line: 1>\u001b[1;34m()\u001b[0m\n\u001b[1;32m----> 1\u001b[0m \u001b[43mdart_fss\u001b[49m\u001b[38;5;241;43m.\u001b[39;49m\u001b[43mapi\u001b[49m\u001b[38;5;241;43m.\u001b[39;49m\u001b[43mfilings\u001b[49m\u001b[38;5;241;43m.\u001b[39;49m\u001b[43msearch_filings\u001b[49m\u001b[43m(\u001b[49m\u001b[43mcorp_code\u001b[49m\u001b[38;5;241;43m=\u001b[39;49m\u001b[38;5;124;43m'\u001b[39;49m\u001b[38;5;124;43m00366942\u001b[39;49m\u001b[38;5;124;43m'\u001b[39;49m\u001b[43m,\u001b[49m\u001b[43m \u001b[49m\u001b[43mbgn_de\u001b[49m\u001b[38;5;241;43m=\u001b[39;49m\u001b[38;5;28;43;01mNone\u001b[39;49;00m\u001b[43m,\u001b[49m\u001b[43m \u001b[49m\u001b[43mend_de\u001b[49m\u001b[38;5;241;43m=\u001b[39;49m\u001b[38;5;28;43;01mNone\u001b[39;49;00m\u001b[43m,\u001b[49m\u001b[43m \u001b[49m\u001b[43mlast_reprt_at\u001b[49m\u001b[38;5;241;43m=\u001b[39;49m\u001b[38;5;124;43m'\u001b[39;49m\u001b[38;5;124;43mN\u001b[39;49m\u001b[38;5;124;43m'\u001b[39;49m\u001b[43m,\u001b[49m\u001b[43m \u001b[49m\u001b[43mpblntf_ty\u001b[49m\u001b[38;5;241;43m=\u001b[39;49m\u001b[38;5;28;43;01mNone\u001b[39;49;00m\u001b[43m,\u001b[49m\u001b[43m \u001b[49m\u001b[43mpblntf_detail_ty\u001b[49m\u001b[38;5;241;43m=\u001b[39;49m\u001b[38;5;28;43;01mNone\u001b[39;49;00m\u001b[43m,\u001b[49m\u001b[43m \u001b[49m\u001b[43mcorp_cls\u001b[49m\u001b[38;5;241;43m=\u001b[39;49m\u001b[38;5;28;43;01mNone\u001b[39;49;00m\u001b[43m,\u001b[49m\u001b[43m \u001b[49m\n\u001b[0;32m      2\u001b[0m \u001b[43m                                    \u001b[49m\u001b[43msort\u001b[49m\u001b[38;5;241;43m=\u001b[39;49m\u001b[38;5;124;43m'\u001b[39;49m\u001b[38;5;124;43mdate\u001b[39;49m\u001b[38;5;124;43m'\u001b[39;49m\u001b[43m,\u001b[49m\u001b[43m \u001b[49m\u001b[43msort_mth\u001b[49m\u001b[38;5;241;43m=\u001b[39;49m\u001b[38;5;124;43m'\u001b[39;49m\u001b[38;5;124;43mdesc\u001b[39;49m\u001b[38;5;124;43m'\u001b[39;49m\u001b[43m,\u001b[49m\u001b[43m \u001b[49m\u001b[43mpage_no\u001b[49m\u001b[38;5;241;43m=\u001b[39;49m\u001b[38;5;241;43m1\u001b[39;49m\u001b[43m,\u001b[49m\u001b[43m \u001b[49m\u001b[43mpage_count\u001b[49m\u001b[38;5;241;43m=\u001b[39;49m\u001b[38;5;241;43m10\u001b[39;49m\u001b[43m)\u001b[49m\n",
      "File \u001b[1;32m~\\anaconda3\\lib\\site-packages\\dart_fss\\api\\filings\\search_filings.py:81\u001b[0m, in \u001b[0;36msearch_filings\u001b[1;34m(corp_code, bgn_de, end_de, last_reprt_at, pblntf_ty, pblntf_detail_ty, corp_cls, sort, sort_mth, page_no, page_count)\u001b[0m\n\u001b[0;32m     78\u001b[0m dataset \u001b[38;5;241m=\u001b[39m resp\u001b[38;5;241m.\u001b[39mjson()\n\u001b[0;32m     80\u001b[0m \u001b[38;5;66;03m# Check Error\u001b[39;00m\n\u001b[1;32m---> 81\u001b[0m check_status(\u001b[38;5;241m*\u001b[39m\u001b[38;5;241m*\u001b[39mdataset)\n\u001b[0;32m     82\u001b[0m \u001b[38;5;28;01mreturn\u001b[39;00m dataset\n",
      "File \u001b[1;32m~\\anaconda3\\lib\\site-packages\\dart_fss\\errors\\checker.py:47\u001b[0m, in \u001b[0;36mcheck_status\u001b[1;34m(**kwargs)\u001b[0m\n\u001b[0;32m     45\u001b[0m \u001b[38;5;28;01mif\u001b[39;00m err \u001b[38;5;129;01mis\u001b[39;00m \u001b[38;5;129;01mnot\u001b[39;00m \u001b[38;5;28;01mNone\u001b[39;00m:\n\u001b[0;32m     46\u001b[0m     msg \u001b[38;5;241m=\u001b[39m kwargs\u001b[38;5;241m.\u001b[39mget(\u001b[38;5;124m'\u001b[39m\u001b[38;5;124mmessage\u001b[39m\u001b[38;5;124m'\u001b[39m)\n\u001b[1;32m---> 47\u001b[0m     \u001b[38;5;28;01mraise\u001b[39;00m err(msg)\n",
      "\u001b[1;31mNoDataReceived\u001b[0m: 조회된 데이타가 없습니다."
     ]
    }
   ],
   "source": [
    "dart_fss.api.filings.search_filings(corp_code='00366942', bgn_de=None, end_de=None, last_reprt_at='N', pblntf_ty=None, pblntf_detail_ty=None, corp_cls=None, \n",
    "                                    sort='date', sort_mth='desc', page_no=1, page_count=10)"
   ]
  },
  {
   "cell_type": "code",
   "execution_count": 79,
   "id": "8074f8cc",
   "metadata": {},
   "outputs": [],
   "source": [
    "corp_code = '00126380'\n",
    "bsns_year = '2018'\n",
    "reprt_code = '11013'"
   ]
  },
  {
   "cell_type": "code",
   "execution_count": 80,
   "id": "27e9b560",
   "metadata": {},
   "outputs": [
    {
     "ename": "AttributeError",
     "evalue": "module 'dart_fss.api.info' has no attribute 'get_capital_increase'",
     "output_type": "error",
     "traceback": [
      "\u001b[1;31m---------------------------------------------------------------------------\u001b[0m",
      "\u001b[1;31mAttributeError\u001b[0m                            Traceback (most recent call last)",
      "Input \u001b[1;32mIn [80]\u001b[0m, in \u001b[0;36m<cell line: 1>\u001b[1;34m()\u001b[0m\n\u001b[1;32m----> 1\u001b[0m \u001b[43mdart_fss\u001b[49m\u001b[38;5;241;43m.\u001b[39;49m\u001b[43mapi\u001b[49m\u001b[38;5;241;43m.\u001b[39;49m\u001b[43minfo\u001b[49m\u001b[38;5;241;43m.\u001b[39;49m\u001b[43mget_capital_increase\u001b[49m(corp_code, bsns_year, reprt_code)\n",
      "\u001b[1;31mAttributeError\u001b[0m: module 'dart_fss.api.info' has no attribute 'get_capital_increase'"
     ]
    }
   ],
   "source": [
    "dart_fss.api.info.get_capital_increase(corp_code, bsns_year, reprt_code)"
   ]
  },
  {
   "cell_type": "code",
   "execution_count": 82,
   "id": "46491dc3",
   "metadata": {},
   "outputs": [
    {
     "ename": "NoDataReceived",
     "evalue": "조회된 데이타가 없습니다.",
     "output_type": "error",
     "traceback": [
      "\u001b[1;31m---------------------------------------------------------------------------\u001b[0m",
      "\u001b[1;31mNoDataReceived\u001b[0m                            Traceback (most recent call last)",
      "Input \u001b[1;32mIn [82]\u001b[0m, in \u001b[0;36m<cell line: 1>\u001b[1;34m()\u001b[0m\n\u001b[1;32m----> 1\u001b[0m \u001b[43mdart_fss\u001b[49m\u001b[38;5;241;43m.\u001b[39;49m\u001b[43mapi\u001b[49m\u001b[38;5;241;43m.\u001b[39;49m\u001b[43minfo\u001b[49m\u001b[38;5;241;43m.\u001b[39;49m\u001b[43mindvdl_by_pay\u001b[49m\u001b[43m(\u001b[49m\u001b[43mcorp_code\u001b[49m\u001b[43m,\u001b[49m\u001b[43m \u001b[49m\u001b[43mbsns_year\u001b[49m\u001b[43m,\u001b[49m\u001b[43m \u001b[49m\u001b[43mreprt_code\u001b[49m\u001b[43m)\u001b[49m\n",
      "File \u001b[1;32m~\\anaconda3\\lib\\site-packages\\dart_fss\\api\\info\\indvdl_by_pay.py:32\u001b[0m, in \u001b[0;36mindvdl_by_pay\u001b[1;34m(corp_code, bsns_year, reprt_code, api_key)\u001b[0m\n\u001b[0;32m     12\u001b[0m \u001b[38;5;124;03m\"\"\" 정기보고서(사업, 분기, 반기보고서) 내에 개인별 보수지급 금액(5억이상 상위5인)을 제공합니다.\u001b[39;00m\n\u001b[0;32m     13\u001b[0m \n\u001b[0;32m     14\u001b[0m \u001b[38;5;124;03mParameters\u001b[39;00m\n\u001b[1;32m   (...)\u001b[0m\n\u001b[0;32m     27\u001b[0m \u001b[38;5;124;03m    개인별 보수지급 금액(5억이상 상위5인) \u001b[39;00m\n\u001b[0;32m     28\u001b[0m \u001b[38;5;124;03m\"\"\"\u001b[39;00m\n\u001b[0;32m     30\u001b[0m path \u001b[38;5;241m=\u001b[39m \u001b[38;5;124m'\u001b[39m\u001b[38;5;124m/api/indvdlByPay.json\u001b[39m\u001b[38;5;124m'\u001b[39m\n\u001b[1;32m---> 32\u001b[0m \u001b[38;5;28;01mreturn\u001b[39;00m \u001b[43mapi_request\u001b[49m\u001b[43m(\u001b[49m\n\u001b[0;32m     33\u001b[0m \u001b[43m    \u001b[49m\u001b[43mapi_key\u001b[49m\u001b[38;5;241;43m=\u001b[39;49m\u001b[43mapi_key\u001b[49m\u001b[43m,\u001b[49m\n\u001b[0;32m     34\u001b[0m \u001b[43m    \u001b[49m\u001b[43mpath\u001b[49m\u001b[38;5;241;43m=\u001b[39;49m\u001b[43mpath\u001b[49m\u001b[43m,\u001b[49m\n\u001b[0;32m     35\u001b[0m \u001b[43m    \u001b[49m\u001b[43mcorp_code\u001b[49m\u001b[38;5;241;43m=\u001b[39;49m\u001b[43mcorp_code\u001b[49m\u001b[43m,\u001b[49m\n\u001b[0;32m     36\u001b[0m \u001b[43m    \u001b[49m\u001b[43mbsns_year\u001b[49m\u001b[38;5;241;43m=\u001b[39;49m\u001b[43mbsns_year\u001b[49m\u001b[43m,\u001b[49m\n\u001b[0;32m     37\u001b[0m \u001b[43m    \u001b[49m\u001b[43mreprt_code\u001b[49m\u001b[38;5;241;43m=\u001b[39;49m\u001b[43mreprt_code\u001b[49m\u001b[43m,\u001b[49m\n\u001b[0;32m     38\u001b[0m \u001b[43m\u001b[49m\u001b[43m)\u001b[49m\n",
      "File \u001b[1;32m~\\anaconda3\\lib\\site-packages\\dart_fss\\api\\helper.py:118\u001b[0m, in \u001b[0;36mapi_request\u001b[1;34m(path, corp_code, bsns_year, reprt_code, bgn_de, end_de, fs_div, sj_div, api_key)\u001b[0m\n\u001b[0;32m    115\u001b[0m dataset \u001b[38;5;241m=\u001b[39m resp\u001b[38;5;241m.\u001b[39mjson()\n\u001b[0;32m    117\u001b[0m \u001b[38;5;66;03m# Status Code Check\u001b[39;00m\n\u001b[1;32m--> 118\u001b[0m check_status(\u001b[38;5;241m*\u001b[39m\u001b[38;5;241m*\u001b[39mdataset)\n\u001b[0;32m    119\u001b[0m \u001b[38;5;28;01mreturn\u001b[39;00m dataset\n",
      "File \u001b[1;32m~\\anaconda3\\lib\\site-packages\\dart_fss\\errors\\checker.py:47\u001b[0m, in \u001b[0;36mcheck_status\u001b[1;34m(**kwargs)\u001b[0m\n\u001b[0;32m     45\u001b[0m \u001b[38;5;28;01mif\u001b[39;00m err \u001b[38;5;129;01mis\u001b[39;00m \u001b[38;5;129;01mnot\u001b[39;00m \u001b[38;5;28;01mNone\u001b[39;00m:\n\u001b[0;32m     46\u001b[0m     msg \u001b[38;5;241m=\u001b[39m kwargs\u001b[38;5;241m.\u001b[39mget(\u001b[38;5;124m'\u001b[39m\u001b[38;5;124mmessage\u001b[39m\u001b[38;5;124m'\u001b[39m)\n\u001b[1;32m---> 47\u001b[0m     \u001b[38;5;28;01mraise\u001b[39;00m err(msg)\n",
      "\u001b[1;31mNoDataReceived\u001b[0m: 조회된 데이타가 없습니다."
     ]
    }
   ],
   "source": [
    "dart_fss.api.info.indvdl_by_pay(corp_code, bsns_year, reprt_code)"
   ]
  },
  {
   "cell_type": "code",
   "execution_count": 44,
   "id": "4ad70900",
   "metadata": {},
   "outputs": [
    {
     "data": {
      "text/plain": [
       "{'status': '000',\n",
       " 'message': '정상',\n",
       " 'list': [{'rcept_no': '20180515001699',\n",
       "   'corp_cls': 'Y',\n",
       "   'corp_code': '00126380',\n",
       "   'corp_name': '삼성전자',\n",
       "   'inv_prm': '-',\n",
       "   'frst_acqs_de': '-',\n",
       "   'invstmnt_purps': '-',\n",
       "   'frst_acqs_amount': '-',\n",
       "   'bsis_blce_qy': '-',\n",
       "   'bsis_blce_qota_rt': '-',\n",
       "   'bsis_blce_acntbk_amount': '-',\n",
       "   'incrs_dcrs_acqs_dsps_qy': '-',\n",
       "   'incrs_dcrs_acqs_dsps_amount': '-',\n",
       "   'incrs_dcrs_evl_lstmn': '-',\n",
       "   'trmend_blce_qy': '-',\n",
       "   'trmend_blce_qota_rt': '-',\n",
       "   'trmend_blce_acntbk_amount': '-',\n",
       "   'recent_bsns_year_fnnr_sttus_tot_assets': '-',\n",
       "   'recent_bsns_year_fnnr_sttus_thstrm_ntpf': '-'},\n",
       "  {'rcept_no': '20180515001699',\n",
       "   'corp_cls': 'Y',\n",
       "   'corp_code': '00126380',\n",
       "   'corp_name': '삼성전자',\n",
       "   'inv_prm': '합계',\n",
       "   'frst_acqs_de': '-',\n",
       "   'invstmnt_purps': '-',\n",
       "   'frst_acqs_amount': '-',\n",
       "   'bsis_blce_qy': '-',\n",
       "   'bsis_blce_qota_rt': '-',\n",
       "   'bsis_blce_acntbk_amount': '-',\n",
       "   'incrs_dcrs_acqs_dsps_qy': '-',\n",
       "   'incrs_dcrs_acqs_dsps_amount': '-',\n",
       "   'incrs_dcrs_evl_lstmn': '-',\n",
       "   'trmend_blce_qy': '-',\n",
       "   'trmend_blce_qota_rt': '-',\n",
       "   'trmend_blce_acntbk_amount': '-',\n",
       "   'recent_bsns_year_fnnr_sttus_tot_assets': '-',\n",
       "   'recent_bsns_year_fnnr_sttus_thstrm_ntpf': '-'}]}"
      ]
     },
     "execution_count": 44,
     "metadata": {},
     "output_type": "execute_result"
    }
   ],
   "source": [
    "dart_fss.api.info.get_investment(corp_code, bsns_year, reprt_code)"
   ]
  },
  {
   "cell_type": "code",
   "execution_count": 45,
   "id": "f5b1ec2a",
   "metadata": {},
   "outputs": [
    {
     "data": {
      "text/plain": [
       "{'status': '000',\n",
       " 'message': '정상',\n",
       " 'list': [{'rcept_no': '20180515001699',\n",
       "   'corp_cls': 'Y',\n",
       "   'corp_code': '00126380',\n",
       "   'corp_name': '삼성전자',\n",
       "   'stock_knd': '보통주',\n",
       "   'rm': '-',\n",
       "   'nm': '이건희',\n",
       "   'relate': '본인',\n",
       "   'bsis_posesn_stock_co': '4,985,464',\n",
       "   'bsis_posesn_stock_qota_rt': '3.86',\n",
       "   'trmend_posesn_stock_co': '4,985,464',\n",
       "   'trmend_posesn_stock_qota_rt': '3.88'},\n",
       "  {'rcept_no': '20180515001699',\n",
       "   'corp_cls': 'Y',\n",
       "   'corp_code': '00126380',\n",
       "   'corp_name': '삼성전자',\n",
       "   'stock_knd': '보통주',\n",
       "   'rm': '장내매매 등',\n",
       "   'nm': '삼성생명(특별계정)',\n",
       "   'relate': '특수관계인',\n",
       "   'bsis_posesn_stock_co': '466,715',\n",
       "   'bsis_posesn_stock_qota_rt': '0.36',\n",
       "   'trmend_posesn_stock_co': '453,675',\n",
       "   'trmend_posesn_stock_qota_rt': '0.35'},\n",
       "  {'rcept_no': '20180515001699',\n",
       "   'corp_cls': 'Y',\n",
       "   'corp_code': '00126380',\n",
       "   'corp_name': '삼성전자',\n",
       "   'stock_knd': '우선주',\n",
       "   'rm': '장내매매 등',\n",
       "   'nm': '삼성생명(특별계정)',\n",
       "   'relate': '특수관계인',\n",
       "   'bsis_posesn_stock_co': '30,778',\n",
       "   'bsis_posesn_stock_qota_rt': '0.17',\n",
       "   'trmend_posesn_stock_co': '22,882',\n",
       "   'trmend_posesn_stock_qota_rt': '0.13'},\n",
       "  {'rcept_no': '20180515001699',\n",
       "   'corp_cls': 'Y',\n",
       "   'corp_code': '00126380',\n",
       "   'corp_name': '삼성전자',\n",
       "   'stock_knd': '보통주',\n",
       "   'rm': '-',\n",
       "   'nm': '삼성화재',\n",
       "   'relate': '특수관계인',\n",
       "   'bsis_posesn_stock_co': '1,856,370',\n",
       "   'bsis_posesn_stock_qota_rt': '1.44',\n",
       "   'trmend_posesn_stock_co': '1,856,370',\n",
       "   'trmend_posesn_stock_qota_rt': '1.45'},\n",
       "  {'rcept_no': '20180515001699',\n",
       "   'corp_cls': 'Y',\n",
       "   'corp_code': '00126380',\n",
       "   'corp_name': '삼성전자',\n",
       "   'stock_knd': '보통주',\n",
       "   'rm': '신규선임',\n",
       "   'nm': '이상훈',\n",
       "   'relate': '특수관계인',\n",
       "   'bsis_posesn_stock_co': '0',\n",
       "   'bsis_posesn_stock_qota_rt': '0.00',\n",
       "   'trmend_posesn_stock_co': '570',\n",
       "   'trmend_posesn_stock_qota_rt': '0.00'},\n",
       "  {'rcept_no': '20180515001699',\n",
       "   'corp_cls': 'Y',\n",
       "   'corp_code': '00126380',\n",
       "   'corp_name': '삼성전자',\n",
       "   'stock_knd': '보통주',\n",
       "   'rm': '신규선임',\n",
       "   'nm': '김기남',\n",
       "   'relate': '특수관계인',\n",
       "   'bsis_posesn_stock_co': '0',\n",
       "   'bsis_posesn_stock_qota_rt': '0.00',\n",
       "   'trmend_posesn_stock_co': '3,500',\n",
       "   'trmend_posesn_stock_qota_rt': '0.00'},\n",
       "  {'rcept_no': '20180515001699',\n",
       "   'corp_cls': 'Y',\n",
       "   'corp_code': '00126380',\n",
       "   'corp_name': '삼성전자',\n",
       "   'stock_knd': '보통주',\n",
       "   'rm': '신규선임',\n",
       "   'nm': '김현석',\n",
       "   'relate': '특수관계인',\n",
       "   'bsis_posesn_stock_co': '0',\n",
       "   'bsis_posesn_stock_qota_rt': '0.00',\n",
       "   'trmend_posesn_stock_co': '1,995',\n",
       "   'trmend_posesn_stock_qota_rt': '0.00'},\n",
       "  {'rcept_no': '20180515001699',\n",
       "   'corp_cls': 'Y',\n",
       "   'corp_code': '00126380',\n",
       "   'corp_name': '삼성전자',\n",
       "   'stock_knd': '보통주',\n",
       "   'rm': '신규선임',\n",
       "   'nm': '고동진',\n",
       "   'relate': '특수관계인',\n",
       "   'bsis_posesn_stock_co': '0',\n",
       "   'bsis_posesn_stock_qota_rt': '0.00',\n",
       "   'trmend_posesn_stock_co': '1,000',\n",
       "   'trmend_posesn_stock_qota_rt': '0.00'},\n",
       "  {'rcept_no': '20180515001699',\n",
       "   'corp_cls': 'Y',\n",
       "   'corp_code': '00126380',\n",
       "   'corp_name': '삼성전자',\n",
       "   'stock_knd': '보통주',\n",
       "   'rm': '이사사임',\n",
       "   'nm': '권오현',\n",
       "   'relate': '-',\n",
       "   'bsis_posesn_stock_co': '500',\n",
       "   'bsis_posesn_stock_qota_rt': '0.00',\n",
       "   'trmend_posesn_stock_co': '0',\n",
       "   'trmend_posesn_stock_qota_rt': '0.00'},\n",
       "  {'rcept_no': '20180515001699',\n",
       "   'corp_cls': 'Y',\n",
       "   'corp_code': '00126380',\n",
       "   'corp_name': '삼성전자',\n",
       "   'stock_knd': '우선주',\n",
       "   'rm': '-',\n",
       "   'nm': '이건희',\n",
       "   'relate': '본인',\n",
       "   'bsis_posesn_stock_co': '12,398',\n",
       "   'bsis_posesn_stock_qota_rt': '0.07',\n",
       "   'trmend_posesn_stock_co': '12,398',\n",
       "   'trmend_posesn_stock_qota_rt': '0.07'},\n",
       "  {'rcept_no': '20180515001699',\n",
       "   'corp_cls': 'Y',\n",
       "   'corp_code': '00126380',\n",
       "   'corp_name': '삼성전자',\n",
       "   'stock_knd': '보통주',\n",
       "   'rm': '-',\n",
       "   'nm': '삼성물산',\n",
       "   'relate': '특수관계인',\n",
       "   'bsis_posesn_stock_co': '5,976,362',\n",
       "   'bsis_posesn_stock_qota_rt': '4.63',\n",
       "   'trmend_posesn_stock_co': '5,976,362',\n",
       "   'trmend_posesn_stock_qota_rt': '4.65'},\n",
       "  {'rcept_no': '20180515001699',\n",
       "   'corp_cls': 'Y',\n",
       "   'corp_code': '00126380',\n",
       "   'corp_name': '삼성전자',\n",
       "   'stock_knd': '보통주',\n",
       "   'rm': '-',\n",
       "   'nm': '삼성복지재단',\n",
       "   'relate': '특수관계인',\n",
       "   'bsis_posesn_stock_co': '89,683',\n",
       "   'bsis_posesn_stock_qota_rt': '0.07',\n",
       "   'trmend_posesn_stock_co': '89,683',\n",
       "   'trmend_posesn_stock_qota_rt': '0.07'},\n",
       "  {'rcept_no': '20180515001699',\n",
       "   'corp_cls': 'Y',\n",
       "   'corp_code': '00126380',\n",
       "   'corp_name': '삼성전자',\n",
       "   'stock_knd': '보통주',\n",
       "   'rm': '-',\n",
       "   'nm': '삼성문화재단',\n",
       "   'relate': '특수관계인',\n",
       "   'bsis_posesn_stock_co': '37,615',\n",
       "   'bsis_posesn_stock_qota_rt': '0.03',\n",
       "   'trmend_posesn_stock_co': '37,615',\n",
       "   'trmend_posesn_stock_qota_rt': '0.03'},\n",
       "  {'rcept_no': '20180515001699',\n",
       "   'corp_cls': 'Y',\n",
       "   'corp_code': '00126380',\n",
       "   'corp_name': '삼성전자',\n",
       "   'stock_knd': '보통주',\n",
       "   'rm': '-',\n",
       "   'nm': '홍라희',\n",
       "   'relate': '특수관계인',\n",
       "   'bsis_posesn_stock_co': '1,083,072',\n",
       "   'bsis_posesn_stock_qota_rt': '0.84',\n",
       "   'trmend_posesn_stock_co': '1,083,072',\n",
       "   'trmend_posesn_stock_qota_rt': '0.84'},\n",
       "  {'rcept_no': '20180515001699',\n",
       "   'corp_cls': 'Y',\n",
       "   'corp_code': '00126380',\n",
       "   'corp_name': '삼성전자',\n",
       "   'stock_knd': '보통주',\n",
       "   'rm': '-',\n",
       "   'nm': '이재용',\n",
       "   'relate': '특수관계인',\n",
       "   'bsis_posesn_stock_co': '840,403',\n",
       "   'bsis_posesn_stock_qota_rt': '0.65',\n",
       "   'trmend_posesn_stock_co': '840,403',\n",
       "   'trmend_posesn_stock_qota_rt': '0.65'},\n",
       "  {'rcept_no': '20180515001699',\n",
       "   'corp_cls': 'Y',\n",
       "   'corp_code': '00126380',\n",
       "   'corp_name': '삼성전자',\n",
       "   'stock_knd': '보통주',\n",
       "   'rm': '-',\n",
       "   'nm': '삼성생명',\n",
       "   'relate': '특수관계인',\n",
       "   'bsis_posesn_stock_co': '10,622,814',\n",
       "   'bsis_posesn_stock_qota_rt': '8.23',\n",
       "   'trmend_posesn_stock_co': '10,622,814',\n",
       "   'trmend_posesn_stock_qota_rt': '8.27'},\n",
       "  {'rcept_no': '20180515001699',\n",
       "   'corp_cls': 'Y',\n",
       "   'corp_code': '00126380',\n",
       "   'corp_name': '삼성전자',\n",
       "   'stock_knd': '우선주',\n",
       "   'rm': '-',\n",
       "   'nm': '삼성생명',\n",
       "   'relate': '특수관계인',\n",
       "   'bsis_posesn_stock_co': '879',\n",
       "   'bsis_posesn_stock_qota_rt': '0.00',\n",
       "   'trmend_posesn_stock_co': '879',\n",
       "   'trmend_posesn_stock_qota_rt': '0.00'},\n",
       "  {'rcept_no': '20180515001699',\n",
       "   'corp_cls': 'Y',\n",
       "   'corp_code': '00126380',\n",
       "   'corp_name': '삼성전자',\n",
       "   'stock_knd': '보통주',\n",
       "   'rm': '-',\n",
       "   'nm': '계',\n",
       "   'bsis_posesn_stock_co': '25,958,998',\n",
       "   'bsis_posesn_stock_qota_rt': '20.11',\n",
       "   'trmend_posesn_stock_co': '25,952,523',\n",
       "   'trmend_posesn_stock_qota_rt': '20.21'},\n",
       "  {'rcept_no': '20180515001699',\n",
       "   'corp_cls': 'Y',\n",
       "   'corp_code': '00126380',\n",
       "   'corp_name': '삼성전자',\n",
       "   'stock_knd': '우선주',\n",
       "   'rm': '-',\n",
       "   'nm': '계',\n",
       "   'bsis_posesn_stock_co': '44,055',\n",
       "   'bsis_posesn_stock_qota_rt': '0.24',\n",
       "   'trmend_posesn_stock_co': '36,159',\n",
       "   'trmend_posesn_stock_qota_rt': '0.20'}]}"
      ]
     },
     "execution_count": 45,
     "metadata": {},
     "output_type": "execute_result"
    }
   ],
   "source": [
    "dart_fss.api.info.get_major_shareholder(corp_code, bsns_year, reprt_code)"
   ]
  },
  {
   "cell_type": "code",
   "execution_count": null,
   "id": "2f85b261",
   "metadata": {},
   "outputs": [],
   "source": []
  }
 ],
 "metadata": {
  "kernelspec": {
   "display_name": "pyfolio",
   "language": "python",
   "name": "pyfolio"
  },
  "language_info": {
   "codemirror_mode": {
    "name": "ipython",
    "version": 3
   },
   "file_extension": ".py",
   "mimetype": "text/x-python",
   "name": "python",
   "nbconvert_exporter": "python",
   "pygments_lexer": "ipython3",
   "version": "3.9.12"
  }
 },
 "nbformat": 4,
 "nbformat_minor": 5
}
